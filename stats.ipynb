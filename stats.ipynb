{
 "cells": [
  {
   "cell_type": "code",
   "execution_count": 1,
   "metadata": {},
   "outputs": [],
   "source": [
    "import pandas as pd"
   ]
  },
  {
   "cell_type": "markdown",
   "metadata": {},
   "source": [
    "Вопрос: растет ли температура в Бордо и влияет ли она на оценки?"
   ]
  },
  {
   "cell_type": "code",
   "execution_count": 3,
   "metadata": {},
   "outputs": [
    {
     "data": {
      "text/html": [
       "<div>\n",
       "<style scoped>\n",
       "    .dataframe tbody tr th:only-of-type {\n",
       "        vertical-align: middle;\n",
       "    }\n",
       "\n",
       "    .dataframe tbody tr th {\n",
       "        vertical-align: top;\n",
       "    }\n",
       "\n",
       "    .dataframe thead th {\n",
       "        text-align: right;\n",
       "    }\n",
       "</style>\n",
       "<table border=\"1\" class=\"dataframe\">\n",
       "  <thead>\n",
       "    <tr style=\"text-align: right;\">\n",
       "      <th></th>\n",
       "      <th>Unnamed: 0</th>\n",
       "      <th>date</th>\n",
       "      <th>max</th>\n",
       "      <th>min</th>\n",
       "      <th>average</th>\n",
       "      <th>wind</th>\n",
       "      <th>rain</th>\n",
       "      <th>effect_t</th>\n",
       "      <th>year</th>\n",
       "      <th>month</th>\n",
       "      <th>margaux</th>\n",
       "      <th>pauillac</th>\n",
       "      <th>graves</th>\n",
       "      <th>pomerol</th>\n",
       "      <th>emilion</th>\n",
       "    </tr>\n",
       "  </thead>\n",
       "  <tbody>\n",
       "    <tr>\n",
       "      <th>0</th>\n",
       "      <td>0</td>\n",
       "      <td>1973-01-01</td>\n",
       "      <td>3.0</td>\n",
       "      <td>-3.0</td>\n",
       "      <td>-0.3</td>\n",
       "      <td>2.0</td>\n",
       "      <td>0.0</td>\n",
       "      <td>-3.2</td>\n",
       "      <td>1973</td>\n",
       "      <td>1</td>\n",
       "      <td>NaN</td>\n",
       "      <td>NaN</td>\n",
       "      <td>NaN</td>\n",
       "      <td>NaN</td>\n",
       "      <td>NaN</td>\n",
       "    </tr>\n",
       "    <tr>\n",
       "      <th>1</th>\n",
       "      <td>1</td>\n",
       "      <td>1973-01-02</td>\n",
       "      <td>9.0</td>\n",
       "      <td>0.0</td>\n",
       "      <td>4.7</td>\n",
       "      <td>2.0</td>\n",
       "      <td>1.0</td>\n",
       "      <td>2.3</td>\n",
       "      <td>1973</td>\n",
       "      <td>1</td>\n",
       "      <td>NaN</td>\n",
       "      <td>NaN</td>\n",
       "      <td>NaN</td>\n",
       "      <td>NaN</td>\n",
       "      <td>NaN</td>\n",
       "    </tr>\n",
       "    <tr>\n",
       "      <th>2</th>\n",
       "      <td>2</td>\n",
       "      <td>1973-01-03</td>\n",
       "      <td>15.0</td>\n",
       "      <td>-3.0</td>\n",
       "      <td>4.8</td>\n",
       "      <td>3.0</td>\n",
       "      <td>0.0</td>\n",
       "      <td>1.5</td>\n",
       "      <td>1973</td>\n",
       "      <td>1</td>\n",
       "      <td>NaN</td>\n",
       "      <td>NaN</td>\n",
       "      <td>NaN</td>\n",
       "      <td>NaN</td>\n",
       "      <td>NaN</td>\n",
       "    </tr>\n",
       "    <tr>\n",
       "      <th>3</th>\n",
       "      <td>3</td>\n",
       "      <td>1973-01-04</td>\n",
       "      <td>15.0</td>\n",
       "      <td>0.0</td>\n",
       "      <td>7.8</td>\n",
       "      <td>2.0</td>\n",
       "      <td>0.0</td>\n",
       "      <td>5.7</td>\n",
       "      <td>1973</td>\n",
       "      <td>1</td>\n",
       "      <td>NaN</td>\n",
       "      <td>NaN</td>\n",
       "      <td>NaN</td>\n",
       "      <td>NaN</td>\n",
       "      <td>NaN</td>\n",
       "    </tr>\n",
       "    <tr>\n",
       "      <th>4</th>\n",
       "      <td>4</td>\n",
       "      <td>1973-01-05</td>\n",
       "      <td>23.0</td>\n",
       "      <td>13.0</td>\n",
       "      <td>16.2</td>\n",
       "      <td>4.0</td>\n",
       "      <td>1.0</td>\n",
       "      <td>14.6</td>\n",
       "      <td>1973</td>\n",
       "      <td>1</td>\n",
       "      <td>NaN</td>\n",
       "      <td>NaN</td>\n",
       "      <td>NaN</td>\n",
       "      <td>NaN</td>\n",
       "      <td>NaN</td>\n",
       "    </tr>\n",
       "  </tbody>\n",
       "</table>\n",
       "</div>"
      ],
      "text/plain": [
       "   Unnamed: 0       date   max   min  average  wind  rain  effect_t  year  \\\n",
       "0           0 1973-01-01   3.0  -3.0     -0.3   2.0   0.0      -3.2  1973   \n",
       "1           1 1973-01-02   9.0   0.0      4.7   2.0   1.0       2.3  1973   \n",
       "2           2 1973-01-03  15.0  -3.0      4.8   3.0   0.0       1.5  1973   \n",
       "3           3 1973-01-04  15.0   0.0      7.8   2.0   0.0       5.7  1973   \n",
       "4           4 1973-01-05  23.0  13.0     16.2   4.0   1.0      14.6  1973   \n",
       "\n",
       "   month  margaux  pauillac  graves  pomerol  emilion  \n",
       "0      1      NaN       NaN     NaN      NaN      NaN  \n",
       "1      1      NaN       NaN     NaN      NaN      NaN  \n",
       "2      1      NaN       NaN     NaN      NaN      NaN  \n",
       "3      1      NaN       NaN     NaN      NaN      NaN  \n",
       "4      1      NaN       NaN     NaN      NaN      NaN  "
      ]
     },
     "execution_count": 3,
     "metadata": {},
     "output_type": "execute_result"
    }
   ],
   "source": [
    "file = 'temperature_and_score.xlsx'\n",
    "xl = pd.ExcelFile(file)\n",
    "df = xl.parse('Sheet1')\n",
    "df.head()"
   ]
  },
  {
   "cell_type": "code",
   "execution_count": 4,
   "metadata": {},
   "outputs": [],
   "source": [
    "df.drop('Unnamed: 0', axis = 1, inplace = True)"
   ]
  },
  {
   "cell_type": "code",
   "execution_count": 5,
   "metadata": {},
   "outputs": [
    {
     "name": "stdout",
     "output_type": "stream",
     "text": [
      "<class 'pandas.core.frame.DataFrame'>\n",
      "RangeIndex: 17122 entries, 0 to 17121\n",
      "Data columns (total 14 columns):\n",
      " #   Column    Non-Null Count  Dtype         \n",
      "---  ------    --------------  -----         \n",
      " 0   date      17122 non-null  datetime64[ns]\n",
      " 1   max       17121 non-null  float64       \n",
      " 2   min       17079 non-null  float64       \n",
      " 3   average   17122 non-null  float64       \n",
      " 4   wind      17121 non-null  float64       \n",
      " 5   rain      17095 non-null  float64       \n",
      " 6   effect_t  17049 non-null  float64       \n",
      " 7   year      17122 non-null  int64         \n",
      " 8   month     17122 non-null  int64         \n",
      " 9   margaux   15303 non-null  float64       \n",
      " 10  pauillac  15303 non-null  float64       \n",
      " 11  graves    15303 non-null  float64       \n",
      " 12  pomerol   15303 non-null  float64       \n",
      " 13  emilion   15303 non-null  float64       \n",
      "dtypes: datetime64[ns](1), float64(11), int64(2)\n",
      "memory usage: 1.8 MB\n"
     ]
    }
   ],
   "source": [
    "df.info()"
   ]
  },
  {
   "cell_type": "code",
   "execution_count": 6,
   "metadata": {},
   "outputs": [
    {
     "data": {
      "text/html": [
       "<div>\n",
       "<style scoped>\n",
       "    .dataframe tbody tr th:only-of-type {\n",
       "        vertical-align: middle;\n",
       "    }\n",
       "\n",
       "    .dataframe tbody tr th {\n",
       "        vertical-align: top;\n",
       "    }\n",
       "\n",
       "    .dataframe thead th {\n",
       "        text-align: right;\n",
       "    }\n",
       "</style>\n",
       "<table border=\"1\" class=\"dataframe\">\n",
       "  <thead>\n",
       "    <tr style=\"text-align: right;\">\n",
       "      <th></th>\n",
       "      <th>date</th>\n",
       "      <th>max</th>\n",
       "      <th>min</th>\n",
       "      <th>average</th>\n",
       "      <th>wind</th>\n",
       "      <th>rain</th>\n",
       "      <th>effect_t</th>\n",
       "      <th>year</th>\n",
       "      <th>month</th>\n",
       "      <th>margaux</th>\n",
       "      <th>pauillac</th>\n",
       "      <th>graves</th>\n",
       "      <th>pomerol</th>\n",
       "      <th>emilion</th>\n",
       "    </tr>\n",
       "  </thead>\n",
       "  <tbody>\n",
       "    <tr>\n",
       "      <th>0</th>\n",
       "      <td>1973-01-01</td>\n",
       "      <td>3.0</td>\n",
       "      <td>-3.0</td>\n",
       "      <td>-0.3</td>\n",
       "      <td>2.0</td>\n",
       "      <td>0.0</td>\n",
       "      <td>-3.2</td>\n",
       "      <td>1973</td>\n",
       "      <td>1</td>\n",
       "      <td>NaN</td>\n",
       "      <td>NaN</td>\n",
       "      <td>NaN</td>\n",
       "      <td>NaN</td>\n",
       "      <td>NaN</td>\n",
       "    </tr>\n",
       "    <tr>\n",
       "      <th>1</th>\n",
       "      <td>1973-01-02</td>\n",
       "      <td>9.0</td>\n",
       "      <td>0.0</td>\n",
       "      <td>4.7</td>\n",
       "      <td>2.0</td>\n",
       "      <td>1.0</td>\n",
       "      <td>2.3</td>\n",
       "      <td>1973</td>\n",
       "      <td>1</td>\n",
       "      <td>NaN</td>\n",
       "      <td>NaN</td>\n",
       "      <td>NaN</td>\n",
       "      <td>NaN</td>\n",
       "      <td>NaN</td>\n",
       "    </tr>\n",
       "    <tr>\n",
       "      <th>2</th>\n",
       "      <td>1973-01-03</td>\n",
       "      <td>15.0</td>\n",
       "      <td>-3.0</td>\n",
       "      <td>4.8</td>\n",
       "      <td>3.0</td>\n",
       "      <td>0.0</td>\n",
       "      <td>1.5</td>\n",
       "      <td>1973</td>\n",
       "      <td>1</td>\n",
       "      <td>NaN</td>\n",
       "      <td>NaN</td>\n",
       "      <td>NaN</td>\n",
       "      <td>NaN</td>\n",
       "      <td>NaN</td>\n",
       "    </tr>\n",
       "    <tr>\n",
       "      <th>3</th>\n",
       "      <td>1973-01-04</td>\n",
       "      <td>15.0</td>\n",
       "      <td>0.0</td>\n",
       "      <td>7.8</td>\n",
       "      <td>2.0</td>\n",
       "      <td>0.0</td>\n",
       "      <td>5.7</td>\n",
       "      <td>1973</td>\n",
       "      <td>1</td>\n",
       "      <td>NaN</td>\n",
       "      <td>NaN</td>\n",
       "      <td>NaN</td>\n",
       "      <td>NaN</td>\n",
       "      <td>NaN</td>\n",
       "    </tr>\n",
       "    <tr>\n",
       "      <th>4</th>\n",
       "      <td>1973-01-05</td>\n",
       "      <td>23.0</td>\n",
       "      <td>13.0</td>\n",
       "      <td>16.2</td>\n",
       "      <td>4.0</td>\n",
       "      <td>1.0</td>\n",
       "      <td>14.6</td>\n",
       "      <td>1973</td>\n",
       "      <td>1</td>\n",
       "      <td>NaN</td>\n",
       "      <td>NaN</td>\n",
       "      <td>NaN</td>\n",
       "      <td>NaN</td>\n",
       "      <td>NaN</td>\n",
       "    </tr>\n",
       "  </tbody>\n",
       "</table>\n",
       "</div>"
      ],
      "text/plain": [
       "        date   max   min  average  wind  rain  effect_t  year  month  margaux  \\\n",
       "0 1973-01-01   3.0  -3.0     -0.3   2.0   0.0      -3.2  1973      1      NaN   \n",
       "1 1973-01-02   9.0   0.0      4.7   2.0   1.0       2.3  1973      1      NaN   \n",
       "2 1973-01-03  15.0  -3.0      4.8   3.0   0.0       1.5  1973      1      NaN   \n",
       "3 1973-01-04  15.0   0.0      7.8   2.0   0.0       5.7  1973      1      NaN   \n",
       "4 1973-01-05  23.0  13.0     16.2   4.0   1.0      14.6  1973      1      NaN   \n",
       "\n",
       "   pauillac  graves  pomerol  emilion  \n",
       "0       NaN     NaN      NaN      NaN  \n",
       "1       NaN     NaN      NaN      NaN  \n",
       "2       NaN     NaN      NaN      NaN  \n",
       "3       NaN     NaN      NaN      NaN  \n",
       "4       NaN     NaN      NaN      NaN  "
      ]
     },
     "execution_count": 6,
     "metadata": {},
     "output_type": "execute_result"
    }
   ],
   "source": [
    "df.head()"
   ]
  },
  {
   "cell_type": "code",
   "execution_count": 7,
   "metadata": {},
   "outputs": [],
   "source": [
    "df_year = df.set_index('date')"
   ]
  },
  {
   "cell_type": "code",
   "execution_count": 8,
   "metadata": {},
   "outputs": [],
   "source": [
    "df_month = df.set_index('date')"
   ]
  },
  {
   "cell_type": "code",
   "execution_count": 12,
   "metadata": {},
   "outputs": [],
   "source": [
    "df_year = df_year.resample('1Y').mean()"
   ]
  },
  {
   "cell_type": "code",
   "execution_count": 13,
   "metadata": {},
   "outputs": [],
   "source": [
    "df_month = df_month.resample('MS').mean()"
   ]
  },
  {
   "cell_type": "code",
   "execution_count": 14,
   "metadata": {},
   "outputs": [
    {
     "data": {
      "text/html": [
       "<div>\n",
       "<style scoped>\n",
       "    .dataframe tbody tr th:only-of-type {\n",
       "        vertical-align: middle;\n",
       "    }\n",
       "\n",
       "    .dataframe tbody tr th {\n",
       "        vertical-align: top;\n",
       "    }\n",
       "\n",
       "    .dataframe thead th {\n",
       "        text-align: right;\n",
       "    }\n",
       "</style>\n",
       "<table border=\"1\" class=\"dataframe\">\n",
       "  <thead>\n",
       "    <tr style=\"text-align: right;\">\n",
       "      <th></th>\n",
       "      <th>max</th>\n",
       "      <th>min</th>\n",
       "      <th>average</th>\n",
       "      <th>wind</th>\n",
       "      <th>rain</th>\n",
       "      <th>effect_t</th>\n",
       "      <th>year</th>\n",
       "      <th>month</th>\n",
       "      <th>margaux</th>\n",
       "      <th>pauillac</th>\n",
       "      <th>graves</th>\n",
       "      <th>pomerol</th>\n",
       "      <th>emilion</th>\n",
       "    </tr>\n",
       "    <tr>\n",
       "      <th>date</th>\n",
       "      <th></th>\n",
       "      <th></th>\n",
       "      <th></th>\n",
       "      <th></th>\n",
       "      <th></th>\n",
       "      <th></th>\n",
       "      <th></th>\n",
       "      <th></th>\n",
       "      <th></th>\n",
       "      <th></th>\n",
       "      <th></th>\n",
       "      <th></th>\n",
       "      <th></th>\n",
       "    </tr>\n",
       "  </thead>\n",
       "  <tbody>\n",
       "    <tr>\n",
       "      <th>1973-12-31</th>\n",
       "      <td>17.479452</td>\n",
       "      <td>6.802740</td>\n",
       "      <td>11.924658</td>\n",
       "      <td>2.961644</td>\n",
       "      <td>2.213699</td>\n",
       "      <td>10.295879</td>\n",
       "      <td>1973.0</td>\n",
       "      <td>6.526027</td>\n",
       "      <td>NaN</td>\n",
       "      <td>NaN</td>\n",
       "      <td>NaN</td>\n",
       "      <td>NaN</td>\n",
       "      <td>NaN</td>\n",
       "    </tr>\n",
       "    <tr>\n",
       "      <th>1974-12-31</th>\n",
       "      <td>17.553425</td>\n",
       "      <td>7.408219</td>\n",
       "      <td>12.463836</td>\n",
       "      <td>3.309589</td>\n",
       "      <td>2.665753</td>\n",
       "      <td>10.447123</td>\n",
       "      <td>1974.0</td>\n",
       "      <td>6.526027</td>\n",
       "      <td>NaN</td>\n",
       "      <td>NaN</td>\n",
       "      <td>NaN</td>\n",
       "      <td>NaN</td>\n",
       "      <td>NaN</td>\n",
       "    </tr>\n",
       "    <tr>\n",
       "      <th>1975-12-31</th>\n",
       "      <td>17.815427</td>\n",
       "      <td>7.365385</td>\n",
       "      <td>12.406593</td>\n",
       "      <td>3.074176</td>\n",
       "      <td>2.179063</td>\n",
       "      <td>10.537088</td>\n",
       "      <td>1975.0</td>\n",
       "      <td>6.530220</td>\n",
       "      <td>78.0</td>\n",
       "      <td>89.0</td>\n",
       "      <td>89.0</td>\n",
       "      <td>94.0</td>\n",
       "      <td>85.0</td>\n",
       "    </tr>\n",
       "    <tr>\n",
       "      <th>1976-12-31</th>\n",
       "      <td>18.352459</td>\n",
       "      <td>7.485792</td>\n",
       "      <td>12.718852</td>\n",
       "      <td>2.939891</td>\n",
       "      <td>3.617486</td>\n",
       "      <td>10.944262</td>\n",
       "      <td>1976.0</td>\n",
       "      <td>6.513661</td>\n",
       "      <td>77.0</td>\n",
       "      <td>84.0</td>\n",
       "      <td>71.0</td>\n",
       "      <td>82.0</td>\n",
       "      <td>82.0</td>\n",
       "    </tr>\n",
       "    <tr>\n",
       "      <th>1977-12-31</th>\n",
       "      <td>18.298630</td>\n",
       "      <td>8.043836</td>\n",
       "      <td>12.301096</td>\n",
       "      <td>3.200000</td>\n",
       "      <td>2.512329</td>\n",
       "      <td>10.410685</td>\n",
       "      <td>1977.0</td>\n",
       "      <td>6.526027</td>\n",
       "      <td>NaN</td>\n",
       "      <td>NaN</td>\n",
       "      <td>NaN</td>\n",
       "      <td>NaN</td>\n",
       "      <td>NaN</td>\n",
       "    </tr>\n",
       "  </tbody>\n",
       "</table>\n",
       "</div>"
      ],
      "text/plain": [
       "                  max       min    average      wind      rain   effect_t  \\\n",
       "date                                                                        \n",
       "1973-12-31  17.479452  6.802740  11.924658  2.961644  2.213699  10.295879   \n",
       "1974-12-31  17.553425  7.408219  12.463836  3.309589  2.665753  10.447123   \n",
       "1975-12-31  17.815427  7.365385  12.406593  3.074176  2.179063  10.537088   \n",
       "1976-12-31  18.352459  7.485792  12.718852  2.939891  3.617486  10.944262   \n",
       "1977-12-31  18.298630  8.043836  12.301096  3.200000  2.512329  10.410685   \n",
       "\n",
       "              year     month  margaux  pauillac  graves  pomerol  emilion  \n",
       "date                                                                       \n",
       "1973-12-31  1973.0  6.526027      NaN       NaN     NaN      NaN      NaN  \n",
       "1974-12-31  1974.0  6.526027      NaN       NaN     NaN      NaN      NaN  \n",
       "1975-12-31  1975.0  6.530220     78.0      89.0    89.0     94.0     85.0  \n",
       "1976-12-31  1976.0  6.513661     77.0      84.0    71.0     82.0     82.0  \n",
       "1977-12-31  1977.0  6.526027      NaN       NaN     NaN      NaN      NaN  "
      ]
     },
     "execution_count": 14,
     "metadata": {},
     "output_type": "execute_result"
    }
   ],
   "source": [
    "df_year.head()"
   ]
  },
  {
   "cell_type": "code",
   "execution_count": 15,
   "metadata": {},
   "outputs": [
    {
     "name": "stdout",
     "output_type": "stream",
     "text": [
      "<class 'pandas.core.frame.DataFrame'>\n",
      "DatetimeIndex: 47 entries, 1973-12-31 to 2019-12-31\n",
      "Freq: A-DEC\n",
      "Data columns (total 13 columns):\n",
      " #   Column    Non-Null Count  Dtype  \n",
      "---  ------    --------------  -----  \n",
      " 0   max       47 non-null     float64\n",
      " 1   min       47 non-null     float64\n",
      " 2   average   47 non-null     float64\n",
      " 3   wind      47 non-null     float64\n",
      " 4   rain      47 non-null     float64\n",
      " 5   effect_t  47 non-null     float64\n",
      " 6   year      47 non-null     float64\n",
      " 7   month     47 non-null     float64\n",
      " 8   margaux   42 non-null     float64\n",
      " 9   pauillac  42 non-null     float64\n",
      " 10  graves    42 non-null     float64\n",
      " 11  pomerol   42 non-null     float64\n",
      " 12  emilion   42 non-null     float64\n",
      "dtypes: float64(13)\n",
      "memory usage: 5.1 KB\n"
     ]
    }
   ],
   "source": [
    "df_year.info()"
   ]
  },
  {
   "cell_type": "code",
   "execution_count": 16,
   "metadata": {},
   "outputs": [
    {
     "data": {
      "text/html": [
       "<div>\n",
       "<style scoped>\n",
       "    .dataframe tbody tr th:only-of-type {\n",
       "        vertical-align: middle;\n",
       "    }\n",
       "\n",
       "    .dataframe tbody tr th {\n",
       "        vertical-align: top;\n",
       "    }\n",
       "\n",
       "    .dataframe thead th {\n",
       "        text-align: right;\n",
       "    }\n",
       "</style>\n",
       "<table border=\"1\" class=\"dataframe\">\n",
       "  <thead>\n",
       "    <tr style=\"text-align: right;\">\n",
       "      <th></th>\n",
       "      <th>max</th>\n",
       "      <th>min</th>\n",
       "      <th>average</th>\n",
       "      <th>wind</th>\n",
       "      <th>rain</th>\n",
       "      <th>effect_t</th>\n",
       "      <th>year</th>\n",
       "      <th>month</th>\n",
       "      <th>margaux</th>\n",
       "      <th>pauillac</th>\n",
       "      <th>graves</th>\n",
       "      <th>pomerol</th>\n",
       "      <th>emilion</th>\n",
       "    </tr>\n",
       "    <tr>\n",
       "      <th>date</th>\n",
       "      <th></th>\n",
       "      <th></th>\n",
       "      <th></th>\n",
       "      <th></th>\n",
       "      <th></th>\n",
       "      <th></th>\n",
       "      <th></th>\n",
       "      <th></th>\n",
       "      <th></th>\n",
       "      <th></th>\n",
       "      <th></th>\n",
       "      <th></th>\n",
       "      <th></th>\n",
       "    </tr>\n",
       "  </thead>\n",
       "  <tbody>\n",
       "    <tr>\n",
       "      <th>1973-01-01</th>\n",
       "      <td>12.774194</td>\n",
       "      <td>3.548387</td>\n",
       "      <td>8.354839</td>\n",
       "      <td>3.516129</td>\n",
       "      <td>6.322581</td>\n",
       "      <td>5.751613</td>\n",
       "      <td>1973</td>\n",
       "      <td>1</td>\n",
       "      <td>NaN</td>\n",
       "      <td>NaN</td>\n",
       "      <td>NaN</td>\n",
       "      <td>NaN</td>\n",
       "      <td>NaN</td>\n",
       "    </tr>\n",
       "    <tr>\n",
       "      <th>1973-02-01</th>\n",
       "      <td>11.857143</td>\n",
       "      <td>3.607143</td>\n",
       "      <td>7.592857</td>\n",
       "      <td>3.857143</td>\n",
       "      <td>3.678571</td>\n",
       "      <td>4.567857</td>\n",
       "      <td>1973</td>\n",
       "      <td>2</td>\n",
       "      <td>NaN</td>\n",
       "      <td>NaN</td>\n",
       "      <td>NaN</td>\n",
       "      <td>NaN</td>\n",
       "      <td>NaN</td>\n",
       "    </tr>\n",
       "    <tr>\n",
       "      <th>1973-03-01</th>\n",
       "      <td>15.322581</td>\n",
       "      <td>2.903226</td>\n",
       "      <td>9.025806</td>\n",
       "      <td>2.709677</td>\n",
       "      <td>1.000000</td>\n",
       "      <td>6.706452</td>\n",
       "      <td>1973</td>\n",
       "      <td>3</td>\n",
       "      <td>NaN</td>\n",
       "      <td>NaN</td>\n",
       "      <td>NaN</td>\n",
       "      <td>NaN</td>\n",
       "      <td>NaN</td>\n",
       "    </tr>\n",
       "    <tr>\n",
       "      <th>1973-04-01</th>\n",
       "      <td>18.066667</td>\n",
       "      <td>5.933333</td>\n",
       "      <td>11.800000</td>\n",
       "      <td>3.133333</td>\n",
       "      <td>0.500000</td>\n",
       "      <td>9.686667</td>\n",
       "      <td>1973</td>\n",
       "      <td>4</td>\n",
       "      <td>NaN</td>\n",
       "      <td>NaN</td>\n",
       "      <td>NaN</td>\n",
       "      <td>NaN</td>\n",
       "      <td>NaN</td>\n",
       "    </tr>\n",
       "    <tr>\n",
       "      <th>1973-05-01</th>\n",
       "      <td>21.838710</td>\n",
       "      <td>10.290323</td>\n",
       "      <td>15.851613</td>\n",
       "      <td>3.258065</td>\n",
       "      <td>1.645161</td>\n",
       "      <td>14.493548</td>\n",
       "      <td>1973</td>\n",
       "      <td>5</td>\n",
       "      <td>NaN</td>\n",
       "      <td>NaN</td>\n",
       "      <td>NaN</td>\n",
       "      <td>NaN</td>\n",
       "      <td>NaN</td>\n",
       "    </tr>\n",
       "  </tbody>\n",
       "</table>\n",
       "</div>"
      ],
      "text/plain": [
       "                  max        min    average      wind      rain   effect_t  \\\n",
       "date                                                                         \n",
       "1973-01-01  12.774194   3.548387   8.354839  3.516129  6.322581   5.751613   \n",
       "1973-02-01  11.857143   3.607143   7.592857  3.857143  3.678571   4.567857   \n",
       "1973-03-01  15.322581   2.903226   9.025806  2.709677  1.000000   6.706452   \n",
       "1973-04-01  18.066667   5.933333  11.800000  3.133333  0.500000   9.686667   \n",
       "1973-05-01  21.838710  10.290323  15.851613  3.258065  1.645161  14.493548   \n",
       "\n",
       "            year  month  margaux  pauillac  graves  pomerol  emilion  \n",
       "date                                                                  \n",
       "1973-01-01  1973      1      NaN       NaN     NaN      NaN      NaN  \n",
       "1973-02-01  1973      2      NaN       NaN     NaN      NaN      NaN  \n",
       "1973-03-01  1973      3      NaN       NaN     NaN      NaN      NaN  \n",
       "1973-04-01  1973      4      NaN       NaN     NaN      NaN      NaN  \n",
       "1973-05-01  1973      5      NaN       NaN     NaN      NaN      NaN  "
      ]
     },
     "execution_count": 16,
     "metadata": {},
     "output_type": "execute_result"
    }
   ],
   "source": [
    "df_month.head()"
   ]
  },
  {
   "cell_type": "code",
   "execution_count": 17,
   "metadata": {},
   "outputs": [
    {
     "name": "stdout",
     "output_type": "stream",
     "text": [
      "<class 'pandas.core.frame.DataFrame'>\n",
      "DatetimeIndex: 564 entries, 1973-01-01 to 2019-12-01\n",
      "Freq: MS\n",
      "Data columns (total 13 columns):\n",
      " #   Column    Non-Null Count  Dtype  \n",
      "---  ------    --------------  -----  \n",
      " 0   max       564 non-null    float64\n",
      " 1   min       564 non-null    float64\n",
      " 2   average   564 non-null    float64\n",
      " 3   wind      564 non-null    float64\n",
      " 4   rain      564 non-null    float64\n",
      " 5   effect_t  564 non-null    float64\n",
      " 6   year      564 non-null    int64  \n",
      " 7   month     564 non-null    int64  \n",
      " 8   margaux   504 non-null    float64\n",
      " 9   pauillac  504 non-null    float64\n",
      " 10  graves    504 non-null    float64\n",
      " 11  pomerol   504 non-null    float64\n",
      " 12  emilion   504 non-null    float64\n",
      "dtypes: float64(11), int64(2)\n",
      "memory usage: 61.7 KB\n"
     ]
    }
   ],
   "source": [
    "df_month.info()"
   ]
  },
  {
   "cell_type": "code",
   "execution_count": 18,
   "metadata": {},
   "outputs": [],
   "source": [
    "df_year.dropna(inplace = True)"
   ]
  },
  {
   "cell_type": "code",
   "execution_count": 20,
   "metadata": {},
   "outputs": [],
   "source": [
    "df_month.dropna(inplace = True)"
   ]
  },
  {
   "cell_type": "code",
   "execution_count": 21,
   "metadata": {},
   "outputs": [
    {
     "data": {
      "text/html": [
       "<div>\n",
       "<style scoped>\n",
       "    .dataframe tbody tr th:only-of-type {\n",
       "        vertical-align: middle;\n",
       "    }\n",
       "\n",
       "    .dataframe tbody tr th {\n",
       "        vertical-align: top;\n",
       "    }\n",
       "\n",
       "    .dataframe thead th {\n",
       "        text-align: right;\n",
       "    }\n",
       "</style>\n",
       "<table border=\"1\" class=\"dataframe\">\n",
       "  <thead>\n",
       "    <tr style=\"text-align: right;\">\n",
       "      <th></th>\n",
       "      <th>max</th>\n",
       "      <th>min</th>\n",
       "      <th>average</th>\n",
       "      <th>wind</th>\n",
       "      <th>rain</th>\n",
       "      <th>effect_t</th>\n",
       "      <th>year</th>\n",
       "      <th>month</th>\n",
       "      <th>margaux</th>\n",
       "      <th>pauillac</th>\n",
       "      <th>graves</th>\n",
       "      <th>pomerol</th>\n",
       "      <th>emilion</th>\n",
       "    </tr>\n",
       "    <tr>\n",
       "      <th>date</th>\n",
       "      <th></th>\n",
       "      <th></th>\n",
       "      <th></th>\n",
       "      <th></th>\n",
       "      <th></th>\n",
       "      <th></th>\n",
       "      <th></th>\n",
       "      <th></th>\n",
       "      <th></th>\n",
       "      <th></th>\n",
       "      <th></th>\n",
       "      <th></th>\n",
       "      <th></th>\n",
       "    </tr>\n",
       "  </thead>\n",
       "  <tbody>\n",
       "    <tr>\n",
       "      <th>1975-12-31</th>\n",
       "      <td>17.815427</td>\n",
       "      <td>7.365385</td>\n",
       "      <td>12.406593</td>\n",
       "      <td>3.074176</td>\n",
       "      <td>2.179063</td>\n",
       "      <td>10.537088</td>\n",
       "      <td>1975.0</td>\n",
       "      <td>6.530220</td>\n",
       "      <td>78.0</td>\n",
       "      <td>89.0</td>\n",
       "      <td>89.0</td>\n",
       "      <td>94.0</td>\n",
       "      <td>85.0</td>\n",
       "    </tr>\n",
       "    <tr>\n",
       "      <th>1976-12-31</th>\n",
       "      <td>18.352459</td>\n",
       "      <td>7.485792</td>\n",
       "      <td>12.718852</td>\n",
       "      <td>2.939891</td>\n",
       "      <td>3.617486</td>\n",
       "      <td>10.944262</td>\n",
       "      <td>1976.0</td>\n",
       "      <td>6.513661</td>\n",
       "      <td>77.0</td>\n",
       "      <td>84.0</td>\n",
       "      <td>71.0</td>\n",
       "      <td>82.0</td>\n",
       "      <td>82.0</td>\n",
       "    </tr>\n",
       "    <tr>\n",
       "      <th>1978-12-31</th>\n",
       "      <td>18.479452</td>\n",
       "      <td>7.495616</td>\n",
       "      <td>12.118630</td>\n",
       "      <td>3.435616</td>\n",
       "      <td>2.575342</td>\n",
       "      <td>9.978356</td>\n",
       "      <td>1978.0</td>\n",
       "      <td>6.526027</td>\n",
       "      <td>87.0</td>\n",
       "      <td>87.0</td>\n",
       "      <td>88.0</td>\n",
       "      <td>84.0</td>\n",
       "      <td>84.0</td>\n",
       "    </tr>\n",
       "    <tr>\n",
       "      <th>1979-12-31</th>\n",
       "      <td>16.824658</td>\n",
       "      <td>7.961644</td>\n",
       "      <td>12.256712</td>\n",
       "      <td>3.126374</td>\n",
       "      <td>3.383562</td>\n",
       "      <td>10.356044</td>\n",
       "      <td>1979.0</td>\n",
       "      <td>6.526027</td>\n",
       "      <td>87.0</td>\n",
       "      <td>85.0</td>\n",
       "      <td>88.0</td>\n",
       "      <td>86.0</td>\n",
       "      <td>84.0</td>\n",
       "    </tr>\n",
       "    <tr>\n",
       "      <th>1980-12-31</th>\n",
       "      <td>16.562842</td>\n",
       "      <td>7.464481</td>\n",
       "      <td>11.840710</td>\n",
       "      <td>3.155738</td>\n",
       "      <td>2.830601</td>\n",
       "      <td>9.877596</td>\n",
       "      <td>1980.0</td>\n",
       "      <td>6.513661</td>\n",
       "      <td>79.0</td>\n",
       "      <td>78.0</td>\n",
       "      <td>78.0</td>\n",
       "      <td>79.0</td>\n",
       "      <td>72.0</td>\n",
       "    </tr>\n",
       "  </tbody>\n",
       "</table>\n",
       "</div>"
      ],
      "text/plain": [
       "                  max       min    average      wind      rain   effect_t  \\\n",
       "date                                                                        \n",
       "1975-12-31  17.815427  7.365385  12.406593  3.074176  2.179063  10.537088   \n",
       "1976-12-31  18.352459  7.485792  12.718852  2.939891  3.617486  10.944262   \n",
       "1978-12-31  18.479452  7.495616  12.118630  3.435616  2.575342   9.978356   \n",
       "1979-12-31  16.824658  7.961644  12.256712  3.126374  3.383562  10.356044   \n",
       "1980-12-31  16.562842  7.464481  11.840710  3.155738  2.830601   9.877596   \n",
       "\n",
       "              year     month  margaux  pauillac  graves  pomerol  emilion  \n",
       "date                                                                       \n",
       "1975-12-31  1975.0  6.530220     78.0      89.0    89.0     94.0     85.0  \n",
       "1976-12-31  1976.0  6.513661     77.0      84.0    71.0     82.0     82.0  \n",
       "1978-12-31  1978.0  6.526027     87.0      87.0    88.0     84.0     84.0  \n",
       "1979-12-31  1979.0  6.526027     87.0      85.0    88.0     86.0     84.0  \n",
       "1980-12-31  1980.0  6.513661     79.0      78.0    78.0     79.0     72.0  "
      ]
     },
     "execution_count": 21,
     "metadata": {},
     "output_type": "execute_result"
    }
   ],
   "source": [
    "df_year.head()"
   ]
  },
  {
   "cell_type": "code",
   "execution_count": 22,
   "metadata": {},
   "outputs": [
    {
     "data": {
      "text/html": [
       "<div>\n",
       "<style scoped>\n",
       "    .dataframe tbody tr th:only-of-type {\n",
       "        vertical-align: middle;\n",
       "    }\n",
       "\n",
       "    .dataframe tbody tr th {\n",
       "        vertical-align: top;\n",
       "    }\n",
       "\n",
       "    .dataframe thead th {\n",
       "        text-align: right;\n",
       "    }\n",
       "</style>\n",
       "<table border=\"1\" class=\"dataframe\">\n",
       "  <thead>\n",
       "    <tr style=\"text-align: right;\">\n",
       "      <th></th>\n",
       "      <th>max</th>\n",
       "      <th>min</th>\n",
       "      <th>average</th>\n",
       "      <th>wind</th>\n",
       "      <th>rain</th>\n",
       "      <th>effect_t</th>\n",
       "      <th>year</th>\n",
       "      <th>month</th>\n",
       "      <th>margaux</th>\n",
       "      <th>pauillac</th>\n",
       "      <th>graves</th>\n",
       "      <th>pomerol</th>\n",
       "      <th>emilion</th>\n",
       "    </tr>\n",
       "    <tr>\n",
       "      <th>date</th>\n",
       "      <th></th>\n",
       "      <th></th>\n",
       "      <th></th>\n",
       "      <th></th>\n",
       "      <th></th>\n",
       "      <th></th>\n",
       "      <th></th>\n",
       "      <th></th>\n",
       "      <th></th>\n",
       "      <th></th>\n",
       "      <th></th>\n",
       "      <th></th>\n",
       "      <th></th>\n",
       "    </tr>\n",
       "  </thead>\n",
       "  <tbody>\n",
       "    <tr>\n",
       "      <th>1975-01-01</th>\n",
       "      <td>15.433333</td>\n",
       "      <td>6.290323</td>\n",
       "      <td>10.877419</td>\n",
       "      <td>4.225806</td>\n",
       "      <td>2.967742</td>\n",
       "      <td>7.993548</td>\n",
       "      <td>1975</td>\n",
       "      <td>1</td>\n",
       "      <td>78.0</td>\n",
       "      <td>89.0</td>\n",
       "      <td>89.0</td>\n",
       "      <td>94.0</td>\n",
       "      <td>85.0</td>\n",
       "    </tr>\n",
       "    <tr>\n",
       "      <th>1975-02-01</th>\n",
       "      <td>16.285714</td>\n",
       "      <td>4.178571</td>\n",
       "      <td>9.985714</td>\n",
       "      <td>2.714286</td>\n",
       "      <td>2.214286</td>\n",
       "      <td>7.703571</td>\n",
       "      <td>1975</td>\n",
       "      <td>2</td>\n",
       "      <td>78.0</td>\n",
       "      <td>89.0</td>\n",
       "      <td>89.0</td>\n",
       "      <td>94.0</td>\n",
       "      <td>85.0</td>\n",
       "    </tr>\n",
       "    <tr>\n",
       "      <th>1975-03-01</th>\n",
       "      <td>13.419355</td>\n",
       "      <td>3.419355</td>\n",
       "      <td>8.354839</td>\n",
       "      <td>3.354839</td>\n",
       "      <td>2.064516</td>\n",
       "      <td>5.529032</td>\n",
       "      <td>1975</td>\n",
       "      <td>3</td>\n",
       "      <td>78.0</td>\n",
       "      <td>89.0</td>\n",
       "      <td>89.0</td>\n",
       "      <td>94.0</td>\n",
       "      <td>85.0</td>\n",
       "    </tr>\n",
       "    <tr>\n",
       "      <th>1975-04-01</th>\n",
       "      <td>18.800000</td>\n",
       "      <td>7.700000</td>\n",
       "      <td>12.753333</td>\n",
       "      <td>3.366667</td>\n",
       "      <td>1.800000</td>\n",
       "      <td>10.533333</td>\n",
       "      <td>1975</td>\n",
       "      <td>4</td>\n",
       "      <td>78.0</td>\n",
       "      <td>89.0</td>\n",
       "      <td>89.0</td>\n",
       "      <td>94.0</td>\n",
       "      <td>85.0</td>\n",
       "    </tr>\n",
       "    <tr>\n",
       "      <th>1975-05-01</th>\n",
       "      <td>18.466667</td>\n",
       "      <td>7.966667</td>\n",
       "      <td>13.446667</td>\n",
       "      <td>2.766667</td>\n",
       "      <td>1.633333</td>\n",
       "      <td>11.880000</td>\n",
       "      <td>1975</td>\n",
       "      <td>5</td>\n",
       "      <td>78.0</td>\n",
       "      <td>89.0</td>\n",
       "      <td>89.0</td>\n",
       "      <td>94.0</td>\n",
       "      <td>85.0</td>\n",
       "    </tr>\n",
       "  </tbody>\n",
       "</table>\n",
       "</div>"
      ],
      "text/plain": [
       "                  max       min    average      wind      rain   effect_t  \\\n",
       "date                                                                        \n",
       "1975-01-01  15.433333  6.290323  10.877419  4.225806  2.967742   7.993548   \n",
       "1975-02-01  16.285714  4.178571   9.985714  2.714286  2.214286   7.703571   \n",
       "1975-03-01  13.419355  3.419355   8.354839  3.354839  2.064516   5.529032   \n",
       "1975-04-01  18.800000  7.700000  12.753333  3.366667  1.800000  10.533333   \n",
       "1975-05-01  18.466667  7.966667  13.446667  2.766667  1.633333  11.880000   \n",
       "\n",
       "            year  month  margaux  pauillac  graves  pomerol  emilion  \n",
       "date                                                                  \n",
       "1975-01-01  1975      1     78.0      89.0    89.0     94.0     85.0  \n",
       "1975-02-01  1975      2     78.0      89.0    89.0     94.0     85.0  \n",
       "1975-03-01  1975      3     78.0      89.0    89.0     94.0     85.0  \n",
       "1975-04-01  1975      4     78.0      89.0    89.0     94.0     85.0  \n",
       "1975-05-01  1975      5     78.0      89.0    89.0     94.0     85.0  "
      ]
     },
     "execution_count": 22,
     "metadata": {},
     "output_type": "execute_result"
    }
   ],
   "source": [
    "df_month.head()"
   ]
  },
  {
   "cell_type": "code",
   "execution_count": 23,
   "metadata": {},
   "outputs": [],
   "source": [
    "df_month.to_excel('df_month.xlsx')\n",
    "df_year.to_excel('df_year.xlsx')"
   ]
  },
  {
   "cell_type": "markdown",
   "metadata": {},
   "source": [
    "Проверим нормальность распределения"
   ]
  },
  {
   "cell_type": "code",
   "execution_count": 27,
   "metadata": {},
   "outputs": [
    {
     "data": {
      "text/plain": [
       "Index(['max', 'min', 'average', 'wind', 'rain', 'effect_t', 'year', 'month',\n",
       "       'margaux', 'pauillac', 'graves', 'pomerol', 'emilion'],\n",
       "      dtype='object')"
      ]
     },
     "execution_count": 27,
     "metadata": {},
     "output_type": "execute_result"
    }
   ],
   "source": [
    "col = df_year.columns\n",
    "col"
   ]
  },
  {
   "cell_type": "code",
   "execution_count": 28,
   "metadata": {},
   "outputs": [],
   "source": [
    "regions = ['margaux', 'pauillac', 'graves', 'pomerol', 'emilion']\n",
    "weather = ['max', 'min', 'average', 'wind', 'rain', 'effect_t']"
   ]
  },
  {
   "cell_type": "code",
   "execution_count": 34,
   "metadata": {},
   "outputs": [
    {
     "data": {
      "text/plain": [
       "<matplotlib.axes._subplots.AxesSubplot at 0x29244d44448>"
      ]
     },
     "execution_count": 34,
     "metadata": {},
     "output_type": "execute_result"
    },
    {
     "data": {
      "image/png": "[encoded data removed]",
      "text/plain": [
       "<Figure size 432x288 with 1 Axes>"
      ]
     },
     "metadata": {
      "needs_background": "light"
     },
     "output_type": "display_data"
    }
   ],
   "source": [
    "df_year[['average']].plot(bins = 6, kind = 'hist', alpha = 0.5, grid = True)"
   ]
  },
  {
   "cell_type": "code",
   "execution_count": 35,
   "metadata": {},
   "outputs": [
    {
     "data": {
      "text/plain": [
       "<matplotlib.axes._subplots.AxesSubplot at 0x29244db6ac8>"
      ]
     },
     "execution_count": 35,
     "metadata": {},
     "output_type": "execute_result"
    },
    {
     "data": {
      "image/png": "[encoded data removed]",
      "text/plain": [
       "<Figure size 432x288 with 1 Axes>"
      ]
     },
     "metadata": {
      "needs_background": "light"
     },
     "output_type": "display_data"
    }
   ],
   "source": [
    "df_year[['margaux']].plot(bins = 6, kind = 'hist', alpha = 0.5, grid = True)"
   ]
  },
  {
   "cell_type": "markdown",
   "metadata": {},
   "source": [
    "C большой вероятностью распределение нормальное. Проверим с помощью теста Шапиро-Уилка. Нулевая гипотеза H0 теста Шапиро–Уилка заключается в том, что случайная величина, распределена по нормальному закону. Если p-value больше 0.05, то принимаем нулевую гипотезу."
   ]
  },
  {
   "cell_type": "code",
   "execution_count": 39,
   "metadata": {},
   "outputs": [],
   "source": [
    "from scipy import stats"
   ]
  },
  {
   "cell_type": "code",
   "execution_count": 42,
   "metadata": {},
   "outputs": [
    {
     "name": "stdout",
     "output_type": "stream",
     "text": [
      "Распределение нормальное для max, p-value =  0.45450934767723083\n",
      "Распределение нормальное для min, p-value =  0.22772099077701569\n",
      "Распределение нормальное для average, p-value =  0.2917545437812805\n",
      "Распределение нормальное для rain, p-value =  0.5199277997016907\n",
      "Распределение нормальное для effect_t, p-value =  0.6110158562660217\n"
     ]
    }
   ],
   "source": [
    "for item in weather:\n",
    "    \n",
    "    result = stats.shapiro(df_year[item])\n",
    "    if result[1] > 0.05:\n",
    "        print(f'Распределение нормальное для {item}, p-value = ', result[1])"
   ]
  },
  {
   "cell_type": "code",
   "execution_count": 43,
   "metadata": {},
   "outputs": [
    {
     "name": "stdout",
     "output_type": "stream",
     "text": [
      "Распределение нормальное для margaux, p-value =  0.06939700245857239\n",
      "Распределение нормальное для pauillac, p-value =  0.2801799178123474\n"
     ]
    }
   ],
   "source": [
    "for region in regions:\n",
    "    \n",
    "    result = stats.shapiro(df_year[region])\n",
    "    if result[1] > 0.05:\n",
    "        print(f'Распределение нормальное для {region}, p-value = ', result[1])"
   ]
  },
  {
   "cell_type": "markdown",
   "metadata": {},
   "source": [
    "Поделим данные на 4 квартиля"
   ]
  },
  {
   "cell_type": "code",
   "execution_count": 46,
   "metadata": {},
   "outputs": [],
   "source": [
    "df_year['q'] = pd.qcut(x = df_year['year'], q = 4, labels = [1,2,3,4])"
   ]
  },
  {
   "cell_type": "code",
   "execution_count": 47,
   "metadata": {},
   "outputs": [
    {
     "data": {
      "text/html": [
       "<div>\n",
       "<style scoped>\n",
       "    .dataframe tbody tr th:only-of-type {\n",
       "        vertical-align: middle;\n",
       "    }\n",
       "\n",
       "    .dataframe tbody tr th {\n",
       "        vertical-align: top;\n",
       "    }\n",
       "\n",
       "    .dataframe thead th {\n",
       "        text-align: right;\n",
       "    }\n",
       "</style>\n",
       "<table border=\"1\" class=\"dataframe\">\n",
       "  <thead>\n",
       "    <tr style=\"text-align: right;\">\n",
       "      <th></th>\n",
       "      <th>max</th>\n",
       "      <th>min</th>\n",
       "      <th>average</th>\n",
       "      <th>wind</th>\n",
       "      <th>rain</th>\n",
       "      <th>effect_t</th>\n",
       "      <th>year</th>\n",
       "      <th>month</th>\n",
       "      <th>margaux</th>\n",
       "      <th>pauillac</th>\n",
       "      <th>graves</th>\n",
       "      <th>pomerol</th>\n",
       "      <th>emilion</th>\n",
       "      <th>q</th>\n",
       "    </tr>\n",
       "    <tr>\n",
       "      <th>date</th>\n",
       "      <th></th>\n",
       "      <th></th>\n",
       "      <th></th>\n",
       "      <th></th>\n",
       "      <th></th>\n",
       "      <th></th>\n",
       "      <th></th>\n",
       "      <th></th>\n",
       "      <th></th>\n",
       "      <th></th>\n",
       "      <th></th>\n",
       "      <th></th>\n",
       "      <th></th>\n",
       "      <th></th>\n",
       "    </tr>\n",
       "  </thead>\n",
       "  <tbody>\n",
       "    <tr>\n",
       "      <th>1975-12-31</th>\n",
       "      <td>17.815427</td>\n",
       "      <td>7.365385</td>\n",
       "      <td>12.406593</td>\n",
       "      <td>3.074176</td>\n",
       "      <td>2.179063</td>\n",
       "      <td>10.537088</td>\n",
       "      <td>1975.0</td>\n",
       "      <td>6.530220</td>\n",
       "      <td>78.0</td>\n",
       "      <td>89.0</td>\n",
       "      <td>89.0</td>\n",
       "      <td>94.0</td>\n",
       "      <td>85.0</td>\n",
       "      <td>1</td>\n",
       "    </tr>\n",
       "    <tr>\n",
       "      <th>1976-12-31</th>\n",
       "      <td>18.352459</td>\n",
       "      <td>7.485792</td>\n",
       "      <td>12.718852</td>\n",
       "      <td>2.939891</td>\n",
       "      <td>3.617486</td>\n",
       "      <td>10.944262</td>\n",
       "      <td>1976.0</td>\n",
       "      <td>6.513661</td>\n",
       "      <td>77.0</td>\n",
       "      <td>84.0</td>\n",
       "      <td>71.0</td>\n",
       "      <td>82.0</td>\n",
       "      <td>82.0</td>\n",
       "      <td>1</td>\n",
       "    </tr>\n",
       "    <tr>\n",
       "      <th>1978-12-31</th>\n",
       "      <td>18.479452</td>\n",
       "      <td>7.495616</td>\n",
       "      <td>12.118630</td>\n",
       "      <td>3.435616</td>\n",
       "      <td>2.575342</td>\n",
       "      <td>9.978356</td>\n",
       "      <td>1978.0</td>\n",
       "      <td>6.526027</td>\n",
       "      <td>87.0</td>\n",
       "      <td>87.0</td>\n",
       "      <td>88.0</td>\n",
       "      <td>84.0</td>\n",
       "      <td>84.0</td>\n",
       "      <td>1</td>\n",
       "    </tr>\n",
       "    <tr>\n",
       "      <th>1979-12-31</th>\n",
       "      <td>16.824658</td>\n",
       "      <td>7.961644</td>\n",
       "      <td>12.256712</td>\n",
       "      <td>3.126374</td>\n",
       "      <td>3.383562</td>\n",
       "      <td>10.356044</td>\n",
       "      <td>1979.0</td>\n",
       "      <td>6.526027</td>\n",
       "      <td>87.0</td>\n",
       "      <td>85.0</td>\n",
       "      <td>88.0</td>\n",
       "      <td>86.0</td>\n",
       "      <td>84.0</td>\n",
       "      <td>1</td>\n",
       "    </tr>\n",
       "    <tr>\n",
       "      <th>1980-12-31</th>\n",
       "      <td>16.562842</td>\n",
       "      <td>7.464481</td>\n",
       "      <td>11.840710</td>\n",
       "      <td>3.155738</td>\n",
       "      <td>2.830601</td>\n",
       "      <td>9.877596</td>\n",
       "      <td>1980.0</td>\n",
       "      <td>6.513661</td>\n",
       "      <td>79.0</td>\n",
       "      <td>78.0</td>\n",
       "      <td>78.0</td>\n",
       "      <td>79.0</td>\n",
       "      <td>72.0</td>\n",
       "      <td>1</td>\n",
       "    </tr>\n",
       "  </tbody>\n",
       "</table>\n",
       "</div>"
      ],
      "text/plain": [
       "                  max       min    average      wind      rain   effect_t  \\\n",
       "date                                                                        \n",
       "1975-12-31  17.815427  7.365385  12.406593  3.074176  2.179063  10.537088   \n",
       "1976-12-31  18.352459  7.485792  12.718852  2.939891  3.617486  10.944262   \n",
       "1978-12-31  18.479452  7.495616  12.118630  3.435616  2.575342   9.978356   \n",
       "1979-12-31  16.824658  7.961644  12.256712  3.126374  3.383562  10.356044   \n",
       "1980-12-31  16.562842  7.464481  11.840710  3.155738  2.830601   9.877596   \n",
       "\n",
       "              year     month  margaux  pauillac  graves  pomerol  emilion  q  \n",
       "date                                                                          \n",
       "1975-12-31  1975.0  6.530220     78.0      89.0    89.0     94.0     85.0  1  \n",
       "1976-12-31  1976.0  6.513661     77.0      84.0    71.0     82.0     82.0  1  \n",
       "1978-12-31  1978.0  6.526027     87.0      87.0    88.0     84.0     84.0  1  \n",
       "1979-12-31  1979.0  6.526027     87.0      85.0    88.0     86.0     84.0  1  \n",
       "1980-12-31  1980.0  6.513661     79.0      78.0    78.0     79.0     72.0  1  "
      ]
     },
     "execution_count": 47,
     "metadata": {},
     "output_type": "execute_result"
    }
   ],
   "source": [
    "df_year.head()"
   ]
  },
  {
   "cell_type": "code",
   "execution_count": 61,
   "metadata": {},
   "outputs": [
    {
     "data": {
      "text/html": [
       "<div>\n",
       "<style scoped>\n",
       "    .dataframe tbody tr th:only-of-type {\n",
       "        vertical-align: middle;\n",
       "    }\n",
       "\n",
       "    .dataframe tbody tr th {\n",
       "        vertical-align: top;\n",
       "    }\n",
       "\n",
       "    .dataframe thead th {\n",
       "        text-align: right;\n",
       "    }\n",
       "</style>\n",
       "<table border=\"1\" class=\"dataframe\">\n",
       "  <thead>\n",
       "    <tr style=\"text-align: right;\">\n",
       "      <th></th>\n",
       "      <th>max</th>\n",
       "      <th>min</th>\n",
       "      <th>average</th>\n",
       "      <th>wind</th>\n",
       "      <th>rain</th>\n",
       "      <th>effect_t</th>\n",
       "      <th>year</th>\n",
       "      <th>month</th>\n",
       "      <th>margaux</th>\n",
       "      <th>pauillac</th>\n",
       "      <th>graves</th>\n",
       "      <th>pomerol</th>\n",
       "      <th>emilion</th>\n",
       "      <th>q</th>\n",
       "    </tr>\n",
       "    <tr>\n",
       "      <th>date</th>\n",
       "      <th></th>\n",
       "      <th></th>\n",
       "      <th></th>\n",
       "      <th></th>\n",
       "      <th></th>\n",
       "      <th></th>\n",
       "      <th></th>\n",
       "      <th></th>\n",
       "      <th></th>\n",
       "      <th></th>\n",
       "      <th></th>\n",
       "      <th></th>\n",
       "      <th></th>\n",
       "      <th></th>\n",
       "    </tr>\n",
       "  </thead>\n",
       "  <tbody>\n",
       "    <tr>\n",
       "      <th>1975-12-31</th>\n",
       "      <td>17.815427</td>\n",
       "      <td>7.365385</td>\n",
       "      <td>12.406593</td>\n",
       "      <td>3.074176</td>\n",
       "      <td>2.179063</td>\n",
       "      <td>10.537088</td>\n",
       "      <td>1975.0</td>\n",
       "      <td>6.530220</td>\n",
       "      <td>78.0</td>\n",
       "      <td>89.0</td>\n",
       "      <td>89.0</td>\n",
       "      <td>94.0</td>\n",
       "      <td>85.0</td>\n",
       "      <td>1</td>\n",
       "    </tr>\n",
       "    <tr>\n",
       "      <th>1976-12-31</th>\n",
       "      <td>18.352459</td>\n",
       "      <td>7.485792</td>\n",
       "      <td>12.718852</td>\n",
       "      <td>2.939891</td>\n",
       "      <td>3.617486</td>\n",
       "      <td>10.944262</td>\n",
       "      <td>1976.0</td>\n",
       "      <td>6.513661</td>\n",
       "      <td>77.0</td>\n",
       "      <td>84.0</td>\n",
       "      <td>71.0</td>\n",
       "      <td>82.0</td>\n",
       "      <td>82.0</td>\n",
       "      <td>1</td>\n",
       "    </tr>\n",
       "    <tr>\n",
       "      <th>1978-12-31</th>\n",
       "      <td>18.479452</td>\n",
       "      <td>7.495616</td>\n",
       "      <td>12.118630</td>\n",
       "      <td>3.435616</td>\n",
       "      <td>2.575342</td>\n",
       "      <td>9.978356</td>\n",
       "      <td>1978.0</td>\n",
       "      <td>6.526027</td>\n",
       "      <td>87.0</td>\n",
       "      <td>87.0</td>\n",
       "      <td>88.0</td>\n",
       "      <td>84.0</td>\n",
       "      <td>84.0</td>\n",
       "      <td>1</td>\n",
       "    </tr>\n",
       "    <tr>\n",
       "      <th>1979-12-31</th>\n",
       "      <td>16.824658</td>\n",
       "      <td>7.961644</td>\n",
       "      <td>12.256712</td>\n",
       "      <td>3.126374</td>\n",
       "      <td>3.383562</td>\n",
       "      <td>10.356044</td>\n",
       "      <td>1979.0</td>\n",
       "      <td>6.526027</td>\n",
       "      <td>87.0</td>\n",
       "      <td>85.0</td>\n",
       "      <td>88.0</td>\n",
       "      <td>86.0</td>\n",
       "      <td>84.0</td>\n",
       "      <td>1</td>\n",
       "    </tr>\n",
       "    <tr>\n",
       "      <th>1980-12-31</th>\n",
       "      <td>16.562842</td>\n",
       "      <td>7.464481</td>\n",
       "      <td>11.840710</td>\n",
       "      <td>3.155738</td>\n",
       "      <td>2.830601</td>\n",
       "      <td>9.877596</td>\n",
       "      <td>1980.0</td>\n",
       "      <td>6.513661</td>\n",
       "      <td>79.0</td>\n",
       "      <td>78.0</td>\n",
       "      <td>78.0</td>\n",
       "      <td>79.0</td>\n",
       "      <td>72.0</td>\n",
       "      <td>1</td>\n",
       "    </tr>\n",
       "    <tr>\n",
       "      <th>1981-12-31</th>\n",
       "      <td>17.723288</td>\n",
       "      <td>8.350685</td>\n",
       "      <td>12.892055</td>\n",
       "      <td>3.189041</td>\n",
       "      <td>2.624658</td>\n",
       "      <td>11.089863</td>\n",
       "      <td>1981.0</td>\n",
       "      <td>6.526027</td>\n",
       "      <td>82.0</td>\n",
       "      <td>85.0</td>\n",
       "      <td>84.0</td>\n",
       "      <td>86.0</td>\n",
       "      <td>82.0</td>\n",
       "      <td>1</td>\n",
       "    </tr>\n",
       "    <tr>\n",
       "      <th>1982-12-31</th>\n",
       "      <td>18.328219</td>\n",
       "      <td>8.589589</td>\n",
       "      <td>13.287671</td>\n",
       "      <td>3.084932</td>\n",
       "      <td>3.547945</td>\n",
       "      <td>11.599452</td>\n",
       "      <td>1982.0</td>\n",
       "      <td>6.526027</td>\n",
       "      <td>86.0</td>\n",
       "      <td>98.0</td>\n",
       "      <td>88.0</td>\n",
       "      <td>96.0</td>\n",
       "      <td>94.0</td>\n",
       "      <td>1</td>\n",
       "    </tr>\n",
       "    <tr>\n",
       "      <th>1983-12-31</th>\n",
       "      <td>18.241370</td>\n",
       "      <td>8.287671</td>\n",
       "      <td>12.934521</td>\n",
       "      <td>3.095890</td>\n",
       "      <td>2.950685</td>\n",
       "      <td>11.229315</td>\n",
       "      <td>1983.0</td>\n",
       "      <td>6.526027</td>\n",
       "      <td>95.0</td>\n",
       "      <td>86.0</td>\n",
       "      <td>89.0</td>\n",
       "      <td>90.0</td>\n",
       "      <td>89.0</td>\n",
       "      <td>1</td>\n",
       "    </tr>\n",
       "    <tr>\n",
       "      <th>1984-12-31</th>\n",
       "      <td>17.384153</td>\n",
       "      <td>7.481148</td>\n",
       "      <td>12.316667</td>\n",
       "      <td>3.218579</td>\n",
       "      <td>3.628415</td>\n",
       "      <td>10.284426</td>\n",
       "      <td>1984.0</td>\n",
       "      <td>6.513661</td>\n",
       "      <td>68.0</td>\n",
       "      <td>72.0</td>\n",
       "      <td>79.0</td>\n",
       "      <td>65.0</td>\n",
       "      <td>65.0</td>\n",
       "      <td>1</td>\n",
       "    </tr>\n",
       "    <tr>\n",
       "      <th>1985-12-31</th>\n",
       "      <td>17.363562</td>\n",
       "      <td>6.790411</td>\n",
       "      <td>11.841096</td>\n",
       "      <td>2.167123</td>\n",
       "      <td>2.620879</td>\n",
       "      <td>10.464658</td>\n",
       "      <td>1985.0</td>\n",
       "      <td>6.526027</td>\n",
       "      <td>86.0</td>\n",
       "      <td>90.0</td>\n",
       "      <td>90.0</td>\n",
       "      <td>88.0</td>\n",
       "      <td>87.0</td>\n",
       "      <td>1</td>\n",
       "    </tr>\n",
       "    <tr>\n",
       "      <th>1986-12-31</th>\n",
       "      <td>17.484932</td>\n",
       "      <td>7.339726</td>\n",
       "      <td>12.276164</td>\n",
       "      <td>3.263014</td>\n",
       "      <td>2.559229</td>\n",
       "      <td>10.293699</td>\n",
       "      <td>1986.0</td>\n",
       "      <td>6.526027</td>\n",
       "      <td>90.0</td>\n",
       "      <td>94.0</td>\n",
       "      <td>89.0</td>\n",
       "      <td>87.0</td>\n",
       "      <td>88.0</td>\n",
       "      <td>1</td>\n",
       "    </tr>\n",
       "  </tbody>\n",
       "</table>\n",
       "</div>"
      ],
      "text/plain": [
       "                  max       min    average      wind      rain   effect_t  \\\n",
       "date                                                                        \n",
       "1975-12-31  17.815427  7.365385  12.406593  3.074176  2.179063  10.537088   \n",
       "1976-12-31  18.352459  7.485792  12.718852  2.939891  3.617486  10.944262   \n",
       "1978-12-31  18.479452  7.495616  12.118630  3.435616  2.575342   9.978356   \n",
       "1979-12-31  16.824658  7.961644  12.256712  3.126374  3.383562  10.356044   \n",
       "1980-12-31  16.562842  7.464481  11.840710  3.155738  2.830601   9.877596   \n",
       "1981-12-31  17.723288  8.350685  12.892055  3.189041  2.624658  11.089863   \n",
       "1982-12-31  18.328219  8.589589  13.287671  3.084932  3.547945  11.599452   \n",
       "1983-12-31  18.241370  8.287671  12.934521  3.095890  2.950685  11.229315   \n",
       "1984-12-31  17.384153  7.481148  12.316667  3.218579  3.628415  10.284426   \n",
       "1985-12-31  17.363562  6.790411  11.841096  2.167123  2.620879  10.464658   \n",
       "1986-12-31  17.484932  7.339726  12.276164  3.263014  2.559229  10.293699   \n",
       "\n",
       "              year     month  margaux  pauillac  graves  pomerol  emilion  q  \n",
       "date                                                                          \n",
       "1975-12-31  1975.0  6.530220     78.0      89.0    89.0     94.0     85.0  1  \n",
       "1976-12-31  1976.0  6.513661     77.0      84.0    71.0     82.0     82.0  1  \n",
       "1978-12-31  1978.0  6.526027     87.0      87.0    88.0     84.0     84.0  1  \n",
       "1979-12-31  1979.0  6.526027     87.0      85.0    88.0     86.0     84.0  1  \n",
       "1980-12-31  1980.0  6.513661     79.0      78.0    78.0     79.0     72.0  1  \n",
       "1981-12-31  1981.0  6.526027     82.0      85.0    84.0     86.0     82.0  1  \n",
       "1982-12-31  1982.0  6.526027     86.0      98.0    88.0     96.0     94.0  1  \n",
       "1983-12-31  1983.0  6.526027     95.0      86.0    89.0     90.0     89.0  1  \n",
       "1984-12-31  1984.0  6.513661     68.0      72.0    79.0     65.0     65.0  1  \n",
       "1985-12-31  1985.0  6.526027     86.0      90.0    90.0     88.0     87.0  1  \n",
       "1986-12-31  1986.0  6.526027     90.0      94.0    89.0     87.0     88.0  1  "
      ]
     },
     "execution_count": 61,
     "metadata": {},
     "output_type": "execute_result"
    }
   ],
   "source": [
    "df_year.query('q == 1')"
   ]
  },
  {
   "cell_type": "code",
   "execution_count": 50,
   "metadata": {},
   "outputs": [],
   "source": [
    "import seaborn as sns\n",
    "import matplotlib.pyplot as plt"
   ]
  },
  {
   "cell_type": "code",
   "execution_count": 58,
   "metadata": {},
   "outputs": [
    {
     "data": {
      "text/plain": [
       "<matplotlib.axes._subplots.AxesSubplot at 0x292499f0308>"
      ]
     },
     "execution_count": 58,
     "metadata": {},
     "output_type": "execute_result"
    },
    {
     "data": {
      "image/png": "[encoded data removed]",
      "text/plain": [
       "<Figure size 1080x432 with 1 Axes>"
      ]
     },
     "metadata": {
      "needs_background": "light"
     },
     "output_type": "display_data"
    }
   ],
   "source": [
    "fig, ax = plt.subplots(figsize = (15,6))\n",
    "\n",
    "sns.boxplot(df_year['q'], df_year['average'])"
   ]
  },
  {
   "cell_type": "code",
   "execution_count": 59,
   "metadata": {},
   "outputs": [
    {
     "data": {
      "text/plain": [
       "<matplotlib.axes._subplots.AxesSubplot at 0x29249d64b08>"
      ]
     },
     "execution_count": 59,
     "metadata": {},
     "output_type": "execute_result"
    },
    {
     "data": {
      "image/png": "[encoded data removed]",
      "text/plain": [
       "<Figure size 1080x432 with 1 Axes>"
      ]
     },
     "metadata": {
      "needs_background": "light"
     },
     "output_type": "display_data"
    }
   ],
   "source": [
    "fig, ax = plt.subplots(figsize = (15,6))\n",
    "\n",
    "sns.boxplot(df_year['q'], df_year['max'])"
   ]
  },
  {
   "cell_type": "code",
   "execution_count": 60,
   "metadata": {},
   "outputs": [
    {
     "data": {
      "text/plain": [
       "<matplotlib.axes._subplots.AxesSubplot at 0x29249dc8648>"
      ]
     },
     "execution_count": 60,
     "metadata": {},
     "output_type": "execute_result"
    },
    {
     "data": {
      "image/png": "[encoded data removed]",
      "text/plain": [
       "<Figure size 1080x432 with 1 Axes>"
      ]
     },
     "metadata": {
      "needs_background": "light"
     },
     "output_type": "display_data"
    }
   ],
   "source": [
    "fig, ax = plt.subplots(figsize = (15,6))\n",
    "\n",
    "sns.boxplot(df_year['q'], df_year['min'])"
   ]
  },
  {
   "cell_type": "code",
   "execution_count": 64,
   "metadata": {},
   "outputs": [
    {
     "data": {
      "text/plain": [
       "<matplotlib.axes._subplots.AxesSubplot at 0x2924a2b1588>"
      ]
     },
     "execution_count": 64,
     "metadata": {},
     "output_type": "execute_result"
    },
    {
     "data": {
      "image/png": "[encoded data removed]",
      "text/plain": [
       "<Figure size 1080x432 with 1 Axes>"
      ]
     },
     "metadata": {
      "needs_background": "light"
     },
     "output_type": "display_data"
    }
   ],
   "source": [
    "fig, ax = plt.subplots(figsize = (15,6))\n",
    "\n",
    "sns.boxplot(df_year['q'], df_year['rain'])"
   ]
  },
  {
   "cell_type": "markdown",
   "metadata": {},
   "source": [
    "Температура выросла в среднем на 2 градуса, количество осадков снизилось на 1 мм "
   ]
  },
  {
   "cell_type": "markdown",
   "metadata": {},
   "source": [
    "Проверяем гомоскедастичность выборки"
   ]
  },
  {
   "cell_type": "code",
   "execution_count": 67,
   "metadata": {},
   "outputs": [
    {
     "name": "stdout",
     "output_type": "stream",
     "text": [
      "Распределение гомоскедастичное для max, p-value =  0.7376368014461967\n",
      "Распределение гомоскедастичное для min, p-value =  0.7324605454534268\n",
      "Распределение гомоскедастичное для average, p-value =  0.7716622350135195\n",
      "Распределение гомоскедастичное для wind, p-value =  0.4373027938571382\n",
      "Распределение гомоскедастичное для rain, p-value =  0.9458921928068449\n",
      "Распределение гомоскедастичное для effect_t, p-value =  0.9856115086037563\n"
     ]
    }
   ],
   "source": [
    "for item in weather:\n",
    "    q1 = df_year.query('q == 1')\n",
    "    q2 = df_year.query('q == 2')\n",
    "    q3 = df_year.query('q == 3')\n",
    "    q4 = df_year.query('q == 4')\n",
    "    result = stats.levene(q1[item], q2[item], q3[item], q4[item])\n",
    "    if result[1] > 0.05:\n",
    "        print(f'Распределение гомоскедастичное для {item}, p-value = ', result[1])"
   ]
  },
  {
   "cell_type": "code",
   "execution_count": 69,
   "metadata": {},
   "outputs": [
    {
     "name": "stdout",
     "output_type": "stream",
     "text": [
      "Распределение гомоскедастичное для margaux, p-value =  0.42063306080133356\n",
      "Распределение гомоскедастичное для pauillac, p-value =  0.23106498357033636\n",
      "Распределение гомоскедастичное для graves, p-value =  0.8946216867506944\n",
      "Распределение гомоскедастичное для pomerol, p-value =  0.5616968432111809\n",
      "Распределение гомоскедастичное для emilion, p-value =  0.3633809113434093\n"
     ]
    }
   ],
   "source": [
    "for region in regions:\n",
    "    q1 = df_year.query('q == 1')\n",
    "    q2 = df_year.query('q == 2')\n",
    "    q3 = df_year.query('q == 3')\n",
    "    q4 = df_year.query('q == 4')\n",
    "    result = stats.levene(q1[region], q2[region], q3[region], q4[region])\n",
    "    if result[1] > 0.05:\n",
    "        print(f'Распределение гомоскедастичное для {region}, p-value = ', result[1])"
   ]
  },
  {
   "cell_type": "code",
   "execution_count": 85,
   "metadata": {},
   "outputs": [
    {
     "name": "stdout",
     "output_type": "stream",
     "text": [
      "max F_onewayResult(statistic=14.140948909730833, pvalue=2.4236597388718206e-06)\n",
      "min F_onewayResult(statistic=16.154486418847036, pvalue=6.293588519363005e-07)\n",
      "average F_onewayResult(statistic=19.759095548807178, pvalue=6.968991587177516e-08)\n",
      "wind F_onewayResult(statistic=5.594597983922674, pvalue=0.002803410040257195)\n",
      "rain F_onewayResult(statistic=7.1202519784654275, pvalue=0.0006544975216141912)\n",
      "effect_t F_onewayResult(statistic=13.794137261976596, pvalue=3.0873426673965986e-06)\n"
     ]
    }
   ],
   "source": [
    "for item in weather:\n",
    "    q1 = df_year.query('q == 1')\n",
    "    q2 = df_year.query('q == 2')\n",
    "    q3 = df_year.query('q == 3')\n",
    "    q4 = df_year.query('q == 4')\n",
    "    result = stats.f_oneway(q1[item], q2[item], q3[item], q4[item])\n",
    "    print(f'{item}', result)"
   ]
  },
  {
   "cell_type": "markdown",
   "metadata": {},
   "source": [
    "Для всех погодных изменений различия существенны."
   ]
  },
  {
   "cell_type": "code",
   "execution_count": 86,
   "metadata": {},
   "outputs": [
    {
     "name": "stdout",
     "output_type": "stream",
     "text": [
      "margaux F_onewayResult(statistic=4.949647067969018, pvalue=0.005349879841900065)\n",
      "pauillac F_onewayResult(statistic=2.082724693551321, pvalue=0.118676012323904)\n",
      "graves F_onewayResult(statistic=4.44866126769168, pvalue=0.008956580434730207)\n",
      "pomerol F_onewayResult(statistic=2.2845429127712436, pvalue=0.09443561463583638)\n",
      "emilion F_onewayResult(statistic=4.090945694202313, pvalue=0.01303350881481871)\n"
     ]
    }
   ],
   "source": [
    "for region in regions:\n",
    "    q1 = df_year.query('q == 1')\n",
    "    q2 = df_year.query('q == 2')\n",
    "    q3 = df_year.query('q == 3')\n",
    "    q4 = df_year.query('q == 4')\n",
    "    result = stats.f_oneway(q1[region], q2[region], q3[region], q4[region])\n",
    "    print(f'{region}', result)"
   ]
  },
  {
   "cell_type": "markdown",
   "metadata": {},
   "source": [
    "Для margaux, graves, emilion различия существенны."
   ]
  },
  {
   "cell_type": "code",
   "execution_count": 80,
   "metadata": {},
   "outputs": [],
   "source": [
    "import statsmodels.api as sm"
   ]
  },
  {
   "cell_type": "code",
   "execution_count": 82,
   "metadata": {},
   "outputs": [
    {
     "data": {
      "text/html": [
       "<table class=\"simpletable\">\n",
       "<caption>OLS Regression Results</caption>\n",
       "<tr>\n",
       "  <th>Dep. Variable:</th>         <td>margaux</td>     <th>  R-squared (uncentered):</th>      <td>   0.995</td>\n",
       "</tr>\n",
       "<tr>\n",
       "  <th>Model:</th>                   <td>OLS</td>       <th>  Adj. R-squared (uncentered):</th> <td>   0.995</td>\n",
       "</tr>\n",
       "<tr>\n",
       "  <th>Method:</th>             <td>Least Squares</td>  <th>  F-statistic:       </th>          <td>   7603.</td>\n",
       "</tr>\n",
       "<tr>\n",
       "  <th>Date:</th>             <td>Fri, 08 May 2020</td> <th>  Prob (F-statistic):</th>          <td>3.53e-48</td>\n",
       "</tr>\n",
       "<tr>\n",
       "  <th>Time:</th>                 <td>13:11:03</td>     <th>  Log-Likelihood:    </th>          <td> -137.14</td>\n",
       "</tr>\n",
       "<tr>\n",
       "  <th>No. Observations:</th>      <td>    42</td>      <th>  AIC:               </th>          <td>   276.3</td>\n",
       "</tr>\n",
       "<tr>\n",
       "  <th>Df Residuals:</th>          <td>    41</td>      <th>  BIC:               </th>          <td>   278.0</td>\n",
       "</tr>\n",
       "<tr>\n",
       "  <th>Df Model:</th>              <td>     1</td>      <th>                     </th>              <td> </td>   \n",
       "</tr>\n",
       "<tr>\n",
       "  <th>Covariance Type:</th>      <td>nonrobust</td>    <th>                     </th>              <td> </td>   \n",
       "</tr>\n",
       "</table>\n",
       "<table class=\"simpletable\">\n",
       "<tr>\n",
       "     <td></td>        <th>coef</th>     <th>std err</th>      <th>t</th>      <th>P>|t|</th>  <th>[0.025</th>    <th>0.975]</th>  \n",
       "</tr>\n",
       "<tr>\n",
       "  <th>average</th> <td>    6.4489</td> <td>    0.074</td> <td>   87.195</td> <td> 0.000</td> <td>    6.300</td> <td>    6.598</td>\n",
       "</tr>\n",
       "</table>\n",
       "<table class=\"simpletable\">\n",
       "<tr>\n",
       "  <th>Omnibus:</th>       <td> 1.319</td> <th>  Durbin-Watson:     </th> <td>   1.891</td>\n",
       "</tr>\n",
       "<tr>\n",
       "  <th>Prob(Omnibus):</th> <td> 0.517</td> <th>  Jarque-Bera (JB):  </th> <td>   1.104</td>\n",
       "</tr>\n",
       "<tr>\n",
       "  <th>Skew:</th>          <td> 0.186</td> <th>  Prob(JB):          </th> <td>   0.576</td>\n",
       "</tr>\n",
       "<tr>\n",
       "  <th>Kurtosis:</th>      <td> 2.298</td> <th>  Cond. No.          </th> <td>    1.00</td>\n",
       "</tr>\n",
       "</table><br/><br/>Warnings:<br/>[1] Standard Errors assume that the covariance matrix of the errors is correctly specified."
      ],
      "text/plain": [
       "<class 'statsmodels.iolib.summary.Summary'>\n",
       "\"\"\"\n",
       "                                 OLS Regression Results                                \n",
       "=======================================================================================\n",
       "Dep. Variable:                margaux   R-squared (uncentered):                   0.995\n",
       "Model:                            OLS   Adj. R-squared (uncentered):              0.995\n",
       "Method:                 Least Squares   F-statistic:                              7603.\n",
       "Date:                Fri, 08 May 2020   Prob (F-statistic):                    3.53e-48\n",
       "Time:                        13:11:03   Log-Likelihood:                         -137.14\n",
       "No. Observations:                  42   AIC:                                      276.3\n",
       "Df Residuals:                      41   BIC:                                      278.0\n",
       "Df Model:                           1                                                  \n",
       "Covariance Type:            nonrobust                                                  \n",
       "==============================================================================\n",
       "                 coef    std err          t      P>|t|      [0.025      0.975]\n",
       "------------------------------------------------------------------------------\n",
       "average        6.4489      0.074     87.195      0.000       6.300       6.598\n",
       "==============================================================================\n",
       "Omnibus:                        1.319   Durbin-Watson:                   1.891\n",
       "Prob(Omnibus):                  0.517   Jarque-Bera (JB):                1.104\n",
       "Skew:                           0.186   Prob(JB):                        0.576\n",
       "Kurtosis:                       2.298   Cond. No.                         1.00\n",
       "==============================================================================\n",
       "\n",
       "Warnings:\n",
       "[1] Standard Errors assume that the covariance matrix of the errors is correctly specified.\n",
       "\"\"\""
      ]
     },
     "execution_count": 82,
     "metadata": {},
     "output_type": "execute_result"
    }
   ],
   "source": [
    "year_model = sm.OLS(df_year['margaux'], df_year['average']).fit()\n",
    "year_model.summary()"
   ]
  },
  {
   "cell_type": "code",
   "execution_count": 83,
   "metadata": {},
   "outputs": [
    {
     "data": {
      "text/html": [
       "<table class=\"simpletable\">\n",
       "<caption>OLS Regression Results</caption>\n",
       "<tr>\n",
       "  <th>Dep. Variable:</th>         <td>margaux</td>     <th>  R-squared (uncentered):</th>      <td>   0.934</td>\n",
       "</tr>\n",
       "<tr>\n",
       "  <th>Model:</th>                   <td>OLS</td>       <th>  Adj. R-squared (uncentered):</th> <td>   0.933</td>\n",
       "</tr>\n",
       "<tr>\n",
       "  <th>Method:</th>             <td>Least Squares</td>  <th>  F-statistic:       </th>          <td>   584.9</td>\n",
       "</tr>\n",
       "<tr>\n",
       "  <th>Date:</th>             <td>Fri, 08 May 2020</td> <th>  Prob (F-statistic):</th>          <td>6.92e-26</td>\n",
       "</tr>\n",
       "<tr>\n",
       "  <th>Time:</th>                 <td>13:11:46</td>     <th>  Log-Likelihood:    </th>          <td> -189.69</td>\n",
       "</tr>\n",
       "<tr>\n",
       "  <th>No. Observations:</th>      <td>    42</td>      <th>  AIC:               </th>          <td>   381.4</td>\n",
       "</tr>\n",
       "<tr>\n",
       "  <th>Df Residuals:</th>          <td>    41</td>      <th>  BIC:               </th>          <td>   383.1</td>\n",
       "</tr>\n",
       "<tr>\n",
       "  <th>Df Model:</th>              <td>     1</td>      <th>                     </th>              <td> </td>   \n",
       "</tr>\n",
       "<tr>\n",
       "  <th>Covariance Type:</th>      <td>nonrobust</td>    <th>                     </th>              <td> </td>   \n",
       "</tr>\n",
       "</table>\n",
       "<table class=\"simpletable\">\n",
       "<tr>\n",
       "    <td></td>      <th>coef</th>     <th>std err</th>      <th>t</th>      <th>P>|t|</th>  <th>[0.025</th>    <th>0.975]</th>  \n",
       "</tr>\n",
       "<tr>\n",
       "  <th>rain</th> <td>   32.1580</td> <td>    1.330</td> <td>   24.185</td> <td> 0.000</td> <td>   29.473</td> <td>   34.843</td>\n",
       "</tr>\n",
       "</table>\n",
       "<table class=\"simpletable\">\n",
       "<tr>\n",
       "  <th>Omnibus:</th>       <td> 0.719</td> <th>  Durbin-Watson:     </th> <td>   0.983</td>\n",
       "</tr>\n",
       "<tr>\n",
       "  <th>Prob(Omnibus):</th> <td> 0.698</td> <th>  Jarque-Bera (JB):  </th> <td>   0.680</td>\n",
       "</tr>\n",
       "<tr>\n",
       "  <th>Skew:</th>          <td>-0.286</td> <th>  Prob(JB):          </th> <td>   0.712</td>\n",
       "</tr>\n",
       "<tr>\n",
       "  <th>Kurtosis:</th>      <td> 2.754</td> <th>  Cond. No.          </th> <td>    1.00</td>\n",
       "</tr>\n",
       "</table><br/><br/>Warnings:<br/>[1] Standard Errors assume that the covariance matrix of the errors is correctly specified."
      ],
      "text/plain": [
       "<class 'statsmodels.iolib.summary.Summary'>\n",
       "\"\"\"\n",
       "                                 OLS Regression Results                                \n",
       "=======================================================================================\n",
       "Dep. Variable:                margaux   R-squared (uncentered):                   0.934\n",
       "Model:                            OLS   Adj. R-squared (uncentered):              0.933\n",
       "Method:                 Least Squares   F-statistic:                              584.9\n",
       "Date:                Fri, 08 May 2020   Prob (F-statistic):                    6.92e-26\n",
       "Time:                        13:11:46   Log-Likelihood:                         -189.69\n",
       "No. Observations:                  42   AIC:                                      381.4\n",
       "Df Residuals:                      41   BIC:                                      383.1\n",
       "Df Model:                           1                                                  \n",
       "Covariance Type:            nonrobust                                                  \n",
       "==============================================================================\n",
       "                 coef    std err          t      P>|t|      [0.025      0.975]\n",
       "------------------------------------------------------------------------------\n",
       "rain          32.1580      1.330     24.185      0.000      29.473      34.843\n",
       "==============================================================================\n",
       "Omnibus:                        0.719   Durbin-Watson:                   0.983\n",
       "Prob(Omnibus):                  0.698   Jarque-Bera (JB):                0.680\n",
       "Skew:                          -0.286   Prob(JB):                        0.712\n",
       "Kurtosis:                       2.754   Cond. No.                         1.00\n",
       "==============================================================================\n",
       "\n",
       "Warnings:\n",
       "[1] Standard Errors assume that the covariance matrix of the errors is correctly specified.\n",
       "\"\"\""
      ]
     },
     "execution_count": 83,
     "metadata": {},
     "output_type": "execute_result"
    }
   ],
   "source": [
    "year_model = sm.OLS(df_year['margaux'], df_year['rain']).fit()\n",
    "year_model.summary()"
   ]
  },
  {
   "cell_type": "code",
   "execution_count": 84,
   "metadata": {},
   "outputs": [
    {
     "data": {
      "text/html": [
       "<table class=\"simpletable\">\n",
       "<caption>OLS Regression Results</caption>\n",
       "<tr>\n",
       "  <th>Dep. Variable:</th>         <td>margaux</td>     <th>  R-squared (uncentered):</th>      <td>   0.995</td>\n",
       "</tr>\n",
       "<tr>\n",
       "  <th>Model:</th>                   <td>OLS</td>       <th>  Adj. R-squared (uncentered):</th> <td>   0.994</td>\n",
       "</tr>\n",
       "<tr>\n",
       "  <th>Method:</th>             <td>Least Squares</td>  <th>  F-statistic:       </th>          <td>   7460.</td>\n",
       "</tr>\n",
       "<tr>\n",
       "  <th>Date:</th>             <td>Fri, 08 May 2020</td> <th>  Prob (F-statistic):</th>          <td>5.20e-48</td>\n",
       "</tr>\n",
       "<tr>\n",
       "  <th>Time:</th>                 <td>13:11:56</td>     <th>  Log-Likelihood:    </th>          <td> -137.54</td>\n",
       "</tr>\n",
       "<tr>\n",
       "  <th>No. Observations:</th>      <td>    42</td>      <th>  AIC:               </th>          <td>   277.1</td>\n",
       "</tr>\n",
       "<tr>\n",
       "  <th>Df Residuals:</th>          <td>    41</td>      <th>  BIC:               </th>          <td>   278.8</td>\n",
       "</tr>\n",
       "<tr>\n",
       "  <th>Df Model:</th>              <td>     1</td>      <th>                     </th>              <td> </td>   \n",
       "</tr>\n",
       "<tr>\n",
       "  <th>Covariance Type:</th>      <td>nonrobust</td>    <th>                     </th>              <td> </td>   \n",
       "</tr>\n",
       "</table>\n",
       "<table class=\"simpletable\">\n",
       "<tr>\n",
       "   <td></td>      <th>coef</th>     <th>std err</th>      <th>t</th>      <th>P>|t|</th>  <th>[0.025</th>    <th>0.975]</th>  \n",
       "</tr>\n",
       "<tr>\n",
       "  <th>max</th> <td>    4.5959</td> <td>    0.053</td> <td>   86.371</td> <td> 0.000</td> <td>    4.488</td> <td>    4.703</td>\n",
       "</tr>\n",
       "</table>\n",
       "<table class=\"simpletable\">\n",
       "<tr>\n",
       "  <th>Omnibus:</th>       <td> 0.305</td> <th>  Durbin-Watson:     </th> <td>   1.657</td>\n",
       "</tr>\n",
       "<tr>\n",
       "  <th>Prob(Omnibus):</th> <td> 0.858</td> <th>  Jarque-Bera (JB):  </th> <td>   0.476</td>\n",
       "</tr>\n",
       "<tr>\n",
       "  <th>Skew:</th>          <td>-0.148</td> <th>  Prob(JB):          </th> <td>   0.788</td>\n",
       "</tr>\n",
       "<tr>\n",
       "  <th>Kurtosis:</th>      <td> 2.570</td> <th>  Cond. No.          </th> <td>    1.00</td>\n",
       "</tr>\n",
       "</table><br/><br/>Warnings:<br/>[1] Standard Errors assume that the covariance matrix of the errors is correctly specified."
      ],
      "text/plain": [
       "<class 'statsmodels.iolib.summary.Summary'>\n",
       "\"\"\"\n",
       "                                 OLS Regression Results                                \n",
       "=======================================================================================\n",
       "Dep. Variable:                margaux   R-squared (uncentered):                   0.995\n",
       "Model:                            OLS   Adj. R-squared (uncentered):              0.994\n",
       "Method:                 Least Squares   F-statistic:                              7460.\n",
       "Date:                Fri, 08 May 2020   Prob (F-statistic):                    5.20e-48\n",
       "Time:                        13:11:56   Log-Likelihood:                         -137.54\n",
       "No. Observations:                  42   AIC:                                      277.1\n",
       "Df Residuals:                      41   BIC:                                      278.8\n",
       "Df Model:                           1                                                  \n",
       "Covariance Type:            nonrobust                                                  \n",
       "==============================================================================\n",
       "                 coef    std err          t      P>|t|      [0.025      0.975]\n",
       "------------------------------------------------------------------------------\n",
       "max            4.5959      0.053     86.371      0.000       4.488       4.703\n",
       "==============================================================================\n",
       "Omnibus:                        0.305   Durbin-Watson:                   1.657\n",
       "Prob(Omnibus):                  0.858   Jarque-Bera (JB):                0.476\n",
       "Skew:                          -0.148   Prob(JB):                        0.788\n",
       "Kurtosis:                       2.570   Cond. No.                         1.00\n",
       "==============================================================================\n",
       "\n",
       "Warnings:\n",
       "[1] Standard Errors assume that the covariance matrix of the errors is correctly specified.\n",
       "\"\"\""
      ]
     },
     "execution_count": 84,
     "metadata": {},
     "output_type": "execute_result"
    }
   ],
   "source": [
    "year_model = sm.OLS(df_year['margaux'], df_year['max']).fit()\n",
    "year_model.summary()"
   ]
  },
  {
   "cell_type": "code",
   "execution_count": 87,
   "metadata": {},
   "outputs": [
    {
     "data": {
      "text/html": [
       "<table class=\"simpletable\">\n",
       "<caption>OLS Regression Results</caption>\n",
       "<tr>\n",
       "  <th>Dep. Variable:</th>         <td>margaux</td>     <th>  R-squared (uncentered):</th>      <td>   0.989</td>\n",
       "</tr>\n",
       "<tr>\n",
       "  <th>Model:</th>                   <td>OLS</td>       <th>  Adj. R-squared (uncentered):</th> <td>   0.989</td>\n",
       "</tr>\n",
       "<tr>\n",
       "  <th>Method:</th>             <td>Least Squares</td>  <th>  F-statistic:       </th>          <td>   3773.</td>\n",
       "</tr>\n",
       "<tr>\n",
       "  <th>Date:</th>             <td>Fri, 08 May 2020</td> <th>  Prob (F-statistic):</th>          <td>5.48e-42</td>\n",
       "</tr>\n",
       "<tr>\n",
       "  <th>Time:</th>                 <td>13:21:20</td>     <th>  Log-Likelihood:    </th>          <td> -151.74</td>\n",
       "</tr>\n",
       "<tr>\n",
       "  <th>No. Observations:</th>      <td>    42</td>      <th>  AIC:               </th>          <td>   305.5</td>\n",
       "</tr>\n",
       "<tr>\n",
       "  <th>Df Residuals:</th>          <td>    41</td>      <th>  BIC:               </th>          <td>   307.2</td>\n",
       "</tr>\n",
       "<tr>\n",
       "  <th>Df Model:</th>              <td>     1</td>      <th>                     </th>              <td> </td>   \n",
       "</tr>\n",
       "<tr>\n",
       "  <th>Covariance Type:</th>      <td>nonrobust</td>    <th>                     </th>              <td> </td>   \n",
       "</tr>\n",
       "</table>\n",
       "<table class=\"simpletable\">\n",
       "<tr>\n",
       "   <td></td>      <th>coef</th>     <th>std err</th>      <th>t</th>      <th>P>|t|</th>  <th>[0.025</th>    <th>0.975]</th>  \n",
       "</tr>\n",
       "<tr>\n",
       "  <th>min</th> <td>   10.0294</td> <td>    0.163</td> <td>   61.426</td> <td> 0.000</td> <td>    9.700</td> <td>   10.359</td>\n",
       "</tr>\n",
       "</table>\n",
       "<table class=\"simpletable\">\n",
       "<tr>\n",
       "  <th>Omnibus:</th>       <td> 3.886</td> <th>  Durbin-Watson:     </th> <td>   1.396</td>\n",
       "</tr>\n",
       "<tr>\n",
       "  <th>Prob(Omnibus):</th> <td> 0.143</td> <th>  Jarque-Bera (JB):  </th> <td>   2.178</td>\n",
       "</tr>\n",
       "<tr>\n",
       "  <th>Skew:</th>          <td> 0.308</td> <th>  Prob(JB):          </th> <td>   0.336</td>\n",
       "</tr>\n",
       "<tr>\n",
       "  <th>Kurtosis:</th>      <td> 2.070</td> <th>  Cond. No.          </th> <td>    1.00</td>\n",
       "</tr>\n",
       "</table><br/><br/>Warnings:<br/>[1] Standard Errors assume that the covariance matrix of the errors is correctly specified."
      ],
      "text/plain": [
       "<class 'statsmodels.iolib.summary.Summary'>\n",
       "\"\"\"\n",
       "                                 OLS Regression Results                                \n",
       "=======================================================================================\n",
       "Dep. Variable:                margaux   R-squared (uncentered):                   0.989\n",
       "Model:                            OLS   Adj. R-squared (uncentered):              0.989\n",
       "Method:                 Least Squares   F-statistic:                              3773.\n",
       "Date:                Fri, 08 May 2020   Prob (F-statistic):                    5.48e-42\n",
       "Time:                        13:21:20   Log-Likelihood:                         -151.74\n",
       "No. Observations:                  42   AIC:                                      305.5\n",
       "Df Residuals:                      41   BIC:                                      307.2\n",
       "Df Model:                           1                                                  \n",
       "Covariance Type:            nonrobust                                                  \n",
       "==============================================================================\n",
       "                 coef    std err          t      P>|t|      [0.025      0.975]\n",
       "------------------------------------------------------------------------------\n",
       "min           10.0294      0.163     61.426      0.000       9.700      10.359\n",
       "==============================================================================\n",
       "Omnibus:                        3.886   Durbin-Watson:                   1.396\n",
       "Prob(Omnibus):                  0.143   Jarque-Bera (JB):                2.178\n",
       "Skew:                           0.308   Prob(JB):                        0.336\n",
       "Kurtosis:                       2.070   Cond. No.                         1.00\n",
       "==============================================================================\n",
       "\n",
       "Warnings:\n",
       "[1] Standard Errors assume that the covariance matrix of the errors is correctly specified.\n",
       "\"\"\""
      ]
     },
     "execution_count": 87,
     "metadata": {},
     "output_type": "execute_result"
    }
   ],
   "source": [
    "year_model = sm.OLS(df_year['margaux'], df_year['min']).fit()\n",
    "year_model.summary()"
   ]
  },
  {
   "cell_type": "code",
   "execution_count": 88,
   "metadata": {},
   "outputs": [
    {
     "data": {
      "text/html": [
       "<table class=\"simpletable\">\n",
       "<caption>OLS Regression Results</caption>\n",
       "<tr>\n",
       "  <th>Dep. Variable:</th>         <td>margaux</td>     <th>  R-squared (uncentered):</th>      <td>   0.992</td>\n",
       "</tr>\n",
       "<tr>\n",
       "  <th>Model:</th>                   <td>OLS</td>       <th>  Adj. R-squared (uncentered):</th> <td>   0.991</td>\n",
       "</tr>\n",
       "<tr>\n",
       "  <th>Method:</th>             <td>Least Squares</td>  <th>  F-statistic:       </th>          <td>   4804.</td>\n",
       "</tr>\n",
       "<tr>\n",
       "  <th>Date:</th>             <td>Fri, 08 May 2020</td> <th>  Prob (F-statistic):</th>          <td>4.05e-44</td>\n",
       "</tr>\n",
       "<tr>\n",
       "  <th>Time:</th>                 <td>13:21:47</td>     <th>  Log-Likelihood:    </th>          <td> -146.71</td>\n",
       "</tr>\n",
       "<tr>\n",
       "  <th>No. Observations:</th>      <td>    42</td>      <th>  AIC:               </th>          <td>   295.4</td>\n",
       "</tr>\n",
       "<tr>\n",
       "  <th>Df Residuals:</th>          <td>    41</td>      <th>  BIC:               </th>          <td>   297.2</td>\n",
       "</tr>\n",
       "<tr>\n",
       "  <th>Df Model:</th>              <td>     1</td>      <th>                     </th>              <td> </td>   \n",
       "</tr>\n",
       "<tr>\n",
       "  <th>Covariance Type:</th>      <td>nonrobust</td>    <th>                     </th>              <td> </td>   \n",
       "</tr>\n",
       "</table>\n",
       "<table class=\"simpletable\">\n",
       "<tr>\n",
       "    <td></td>      <th>coef</th>     <th>std err</th>      <th>t</th>      <th>P>|t|</th>  <th>[0.025</th>    <th>0.975]</th>  \n",
       "</tr>\n",
       "<tr>\n",
       "  <th>wind</th> <td>   26.5023</td> <td>    0.382</td> <td>   69.313</td> <td> 0.000</td> <td>   25.730</td> <td>   27.275</td>\n",
       "</tr>\n",
       "</table>\n",
       "<table class=\"simpletable\">\n",
       "<tr>\n",
       "  <th>Omnibus:</th>       <td>11.978</td> <th>  Durbin-Watson:     </th> <td>   1.976</td>\n",
       "</tr>\n",
       "<tr>\n",
       "  <th>Prob(Omnibus):</th> <td> 0.003</td> <th>  Jarque-Bera (JB):  </th> <td>  15.367</td>\n",
       "</tr>\n",
       "<tr>\n",
       "  <th>Skew:</th>          <td> 0.853</td> <th>  Prob(JB):          </th> <td>0.000460</td>\n",
       "</tr>\n",
       "<tr>\n",
       "  <th>Kurtosis:</th>      <td> 5.423</td> <th>  Cond. No.          </th> <td>    1.00</td>\n",
       "</tr>\n",
       "</table><br/><br/>Warnings:<br/>[1] Standard Errors assume that the covariance matrix of the errors is correctly specified."
      ],
      "text/plain": [
       "<class 'statsmodels.iolib.summary.Summary'>\n",
       "\"\"\"\n",
       "                                 OLS Regression Results                                \n",
       "=======================================================================================\n",
       "Dep. Variable:                margaux   R-squared (uncentered):                   0.992\n",
       "Model:                            OLS   Adj. R-squared (uncentered):              0.991\n",
       "Method:                 Least Squares   F-statistic:                              4804.\n",
       "Date:                Fri, 08 May 2020   Prob (F-statistic):                    4.05e-44\n",
       "Time:                        13:21:47   Log-Likelihood:                         -146.71\n",
       "No. Observations:                  42   AIC:                                      295.4\n",
       "Df Residuals:                      41   BIC:                                      297.2\n",
       "Df Model:                           1                                                  \n",
       "Covariance Type:            nonrobust                                                  \n",
       "==============================================================================\n",
       "                 coef    std err          t      P>|t|      [0.025      0.975]\n",
       "------------------------------------------------------------------------------\n",
       "wind          26.5023      0.382     69.313      0.000      25.730      27.275\n",
       "==============================================================================\n",
       "Omnibus:                       11.978   Durbin-Watson:                   1.976\n",
       "Prob(Omnibus):                  0.003   Jarque-Bera (JB):               15.367\n",
       "Skew:                           0.853   Prob(JB):                     0.000460\n",
       "Kurtosis:                       5.423   Cond. No.                         1.00\n",
       "==============================================================================\n",
       "\n",
       "Warnings:\n",
       "[1] Standard Errors assume that the covariance matrix of the errors is correctly specified.\n",
       "\"\"\""
      ]
     },
     "execution_count": 88,
     "metadata": {},
     "output_type": "execute_result"
    }
   ],
   "source": [
    "year_model = sm.OLS(df_year['margaux'], df_year['wind']).fit()\n",
    "year_model.summary()"
   ]
  },
  {
   "cell_type": "code",
   "execution_count": 95,
   "metadata": {},
   "outputs": [
    {
     "data": {
      "text/plain": [
       "<matplotlib.axes._subplots.AxesSubplot at 0x29249599748>"
      ]
     },
     "execution_count": 95,
     "metadata": {},
     "output_type": "execute_result"
    },
    {
     "data": {
      "image/png": "[encoded data removed]",
      "text/plain": [
       "<Figure size 1080x432 with 1 Axes>"
      ]
     },
     "metadata": {
      "needs_background": "light"
     },
     "output_type": "display_data"
    }
   ],
   "source": [
    "fig, ax = plt.subplots(figsize = (15,6))\n",
    "\n",
    "sns.boxplot(df_year['margaux'], df_year['average'])"
   ]
  },
  {
   "cell_type": "code",
   "execution_count": 90,
   "metadata": {},
   "outputs": [
    {
     "data": {
      "text/plain": [
       "<matplotlib.axes._subplots.AxesSubplot at 0x2924c01e848>"
      ]
     },
     "execution_count": 90,
     "metadata": {},
     "output_type": "execute_result"
    },
    {
     "data": {
      "image/png": "[encoded data removed]",
      "text/plain": [
       "<Figure size 1080x432 with 1 Axes>"
      ]
     },
     "metadata": {
      "needs_background": "light"
     },
     "output_type": "display_data"
    }
   ],
   "source": [
    "fig, ax = plt.subplots(figsize = (15,6))\n",
    "\n",
    "sns.boxplot(df_year['emilion'], df_year['average'])"
   ]
  },
  {
   "cell_type": "code",
   "execution_count": 91,
   "metadata": {},
   "outputs": [
    {
     "data": {
      "text/plain": [
       "<matplotlib.axes._subplots.AxesSubplot at 0x2924c3973c8>"
      ]
     },
     "execution_count": 91,
     "metadata": {},
     "output_type": "execute_result"
    },
    {
     "data": {
      "image/png": "[encoded data removed]",
      "text/plain": [
       "<Figure size 1080x432 with 1 Axes>"
      ]
     },
     "metadata": {
      "needs_background": "light"
     },
     "output_type": "display_data"
    }
   ],
   "source": [
    "fig, ax = plt.subplots(figsize = (15,6))\n",
    "\n",
    "sns.boxplot(df_year['graves'], df_year['average'])"
   ]
  },
  {
   "cell_type": "code",
   "execution_count": 92,
   "metadata": {},
   "outputs": [
    {
     "data": {
      "text/plain": [
       "<matplotlib.axes._subplots.AxesSubplot at 0x2924c7235c8>"
      ]
     },
     "execution_count": 92,
     "metadata": {},
     "output_type": "execute_result"
    },
    {
     "data": {
      "image/png": "[encoded data removed]",
      "text/plain": [
       "<Figure size 1080x432 with 1 Axes>"
      ]
     },
     "metadata": {
      "needs_background": "light"
     },
     "output_type": "display_data"
    }
   ],
   "source": [
    "fig, ax = plt.subplots(figsize = (15,6))\n",
    "\n",
    "sns.boxplot(df_year['pomerol'], df_year['average'])"
   ]
  },
  {
   "cell_type": "code",
   "execution_count": 93,
   "metadata": {},
   "outputs": [
    {
     "data": {
      "text/plain": [
       "<matplotlib.axes._subplots.AxesSubplot at 0x2924929c8c8>"
      ]
     },
     "execution_count": 93,
     "metadata": {},
     "output_type": "execute_result"
    },
    {
     "data": {
      "image/png": "[encoded data removed]",
      "text/plain": [
       "<Figure size 1080x432 with 1 Axes>"
      ]
     },
     "metadata": {
      "needs_background": "light"
     },
     "output_type": "display_data"
    }
   ],
   "source": [
    "fig, ax = plt.subplots(figsize = (15,6))\n",
    "\n",
    "sns.boxplot(df_year['pauillac'], df_year['average'])"
   ]
  },
  {
   "cell_type": "code",
   "execution_count": 108,
   "metadata": {},
   "outputs": [
    {
     "data": {
      "text/plain": [
       "<matplotlib.axes._subplots.AxesSubplot at 0x2924dab2f08>"
      ]
     },
     "execution_count": 108,
     "metadata": {},
     "output_type": "execute_result"
    },
    {
     "data": {
      "image/png": "[encoded data removed]",
      "text/plain": [
       "<Figure size 1080x432 with 1 Axes>"
      ]
     },
     "metadata": {
      "needs_background": "light"
     },
     "output_type": "display_data"
    }
   ],
   "source": [
    "fig, ax = plt.subplots(figsize = (15,6))\n",
    "sns.scatterplot(df_year['margaux'], df_year['average'], hue = df_year['rain'])"
   ]
  },
  {
   "cell_type": "code",
   "execution_count": 109,
   "metadata": {},
   "outputs": [
    {
     "data": {
      "text/plain": [
       "<matplotlib.axes._subplots.AxesSubplot at 0x2924dfda348>"
      ]
     },
     "execution_count": 109,
     "metadata": {},
     "output_type": "execute_result"
    },
    {
     "data": {
      "image/png": "[encoded data removed]",
      "text/plain": [
       "<Figure size 1080x432 with 1 Axes>"
      ]
     },
     "metadata": {
      "needs_background": "light"
     },
     "output_type": "display_data"
    }
   ],
   "source": [
    "fig, ax = plt.subplots(figsize = (15,6))\n",
    "sns.scatterplot(df_year['graves'], df_year['average'], hue = df_year['rain'])"
   ]
  },
  {
   "cell_type": "code",
   "execution_count": 110,
   "metadata": {},
   "outputs": [
    {
     "data": {
      "text/plain": [
       "<matplotlib.axes._subplots.AxesSubplot at 0x2924de47508>"
      ]
     },
     "execution_count": 110,
     "metadata": {},
     "output_type": "execute_result"
    },
    {
     "data": {
      "image/png": "[encoded data removed]",
      "text/plain": [
       "<Figure size 1080x432 with 1 Axes>"
      ]
     },
     "metadata": {
      "needs_background": "light"
     },
     "output_type": "display_data"
    }
   ],
   "source": [
    "fig, ax = plt.subplots(figsize = (15,6))\n",
    "sns.scatterplot(df_year['pomerol'], df_year['average'], hue = df_year['rain'])"
   ]
  },
  {
   "cell_type": "code",
   "execution_count": 111,
   "metadata": {},
   "outputs": [
    {
     "data": {
      "text/plain": [
       "<matplotlib.axes._subplots.AxesSubplot at 0x2924e1d9588>"
      ]
     },
     "execution_count": 111,
     "metadata": {},
     "output_type": "execute_result"
    },
    {
     "data": {
      "image/png": "[encoded data removed]",
      "text/plain": [
       "<Figure size 1080x432 with 1 Axes>"
      ]
     },
     "metadata": {
      "needs_background": "light"
     },
     "output_type": "display_data"
    }
   ],
   "source": [
    "fig, ax = plt.subplots(figsize = (15,6))\n",
    "sns.scatterplot(df_year['pauillac'], df_year['average'], hue = df_year['rain'])"
   ]
  },
  {
   "cell_type": "code",
   "execution_count": 112,
   "metadata": {},
   "outputs": [
    {
     "data": {
      "text/plain": [
       "<matplotlib.axes._subplots.AxesSubplot at 0x2924e261548>"
      ]
     },
     "execution_count": 112,
     "metadata": {},
     "output_type": "execute_result"
    },
    {
     "data": {
      "image/png": "[encoded data removed]",
      "text/plain": [
       "<Figure size 1080x432 with 1 Axes>"
      ]
     },
     "metadata": {
      "needs_background": "light"
     },
     "output_type": "display_data"
    }
   ],
   "source": [
    "fig, ax = plt.subplots(figsize = (15,6))\n",
    "sns.scatterplot(df_year['emilion'], df_year['average'], hue = df_year['rain'])"
   ]
  },
  {
   "cell_type": "markdown",
   "metadata": {},
   "source": [
    "В ходе статистического анализа мы убедились, что квартильные выборки действительно различаются по погодным условиям и по оценкам. Причем есть зависимость между ростом температуры и ростом оценки."
   ]
  },
  {
   "cell_type": "code",
   "execution_count": null,
   "metadata": {},
   "outputs": [],
   "source": []
  }
 ],
 "metadata": {
  "kernelspec": {
   "display_name": "Python 3",
   "language": "python",
   "name": "python3"
  },
  "language_info": {
   "codemirror_mode": {
    "name": "ipython",
    "version": 3
   },
   "file_extension": ".py",
   "mimetype": "text/x-python",
   "name": "python",
   "nbconvert_exporter": "python",
   "pygments_lexer": "ipython3",
   "version": "3.7.6"
  }
 },
 "nbformat": 4,
 "nbformat_minor": 4
}
