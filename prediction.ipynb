{
 "cells": [
  {
   "cell_type": "code",
   "execution_count": 490,
   "metadata": {},
   "outputs": [],
   "source": [
    "import pandas as pd\n",
    "from sklearn.model_selection import train_test_split\n",
    "from sklearn.linear_model import LinearRegression\n",
    "from sklearn.metrics import mean_squared_error"
   ]
  },
  {
   "cell_type": "markdown",
   "metadata": {},
   "source": [
    "Попробуем предсказать оценку Роберта Паркера на основании погодных данных. "
   ]
  },
  {
   "cell_type": "code",
   "execution_count": 491,
   "metadata": {},
   "outputs": [
    {
     "data": {
      "text/html": [
       "<div>\n",
       "<style scoped>\n",
       "    .dataframe tbody tr th:only-of-type {\n",
       "        vertical-align: middle;\n",
       "    }\n",
       "\n",
       "    .dataframe tbody tr th {\n",
       "        vertical-align: top;\n",
       "    }\n",
       "\n",
       "    .dataframe thead th {\n",
       "        text-align: right;\n",
       "    }\n",
       "</style>\n",
       "<table border=\"1\" class=\"dataframe\">\n",
       "  <thead>\n",
       "    <tr style=\"text-align: right;\">\n",
       "      <th></th>\n",
       "      <th>date</th>\n",
       "      <th>max</th>\n",
       "      <th>min</th>\n",
       "      <th>average</th>\n",
       "      <th>wind</th>\n",
       "      <th>rain</th>\n",
       "      <th>effect_t</th>\n",
       "      <th>year</th>\n",
       "      <th>month</th>\n",
       "      <th>margaux</th>\n",
       "      <th>pauillac</th>\n",
       "      <th>graves</th>\n",
       "      <th>pomerol</th>\n",
       "      <th>emilion</th>\n",
       "    </tr>\n",
       "  </thead>\n",
       "  <tbody>\n",
       "    <tr>\n",
       "      <th>0</th>\n",
       "      <td>1975-01-01</td>\n",
       "      <td>15.433333</td>\n",
       "      <td>6.290323</td>\n",
       "      <td>10.877419</td>\n",
       "      <td>4.225806</td>\n",
       "      <td>2.967742</td>\n",
       "      <td>7.993548</td>\n",
       "      <td>1975</td>\n",
       "      <td>1</td>\n",
       "      <td>78</td>\n",
       "      <td>89</td>\n",
       "      <td>89</td>\n",
       "      <td>94</td>\n",
       "      <td>85</td>\n",
       "    </tr>\n",
       "    <tr>\n",
       "      <th>1</th>\n",
       "      <td>1975-02-01</td>\n",
       "      <td>16.285714</td>\n",
       "      <td>4.178571</td>\n",
       "      <td>9.985714</td>\n",
       "      <td>2.714286</td>\n",
       "      <td>2.214286</td>\n",
       "      <td>7.703571</td>\n",
       "      <td>1975</td>\n",
       "      <td>2</td>\n",
       "      <td>78</td>\n",
       "      <td>89</td>\n",
       "      <td>89</td>\n",
       "      <td>94</td>\n",
       "      <td>85</td>\n",
       "    </tr>\n",
       "    <tr>\n",
       "      <th>2</th>\n",
       "      <td>1975-03-01</td>\n",
       "      <td>13.419355</td>\n",
       "      <td>3.419355</td>\n",
       "      <td>8.354839</td>\n",
       "      <td>3.354839</td>\n",
       "      <td>2.064516</td>\n",
       "      <td>5.529032</td>\n",
       "      <td>1975</td>\n",
       "      <td>3</td>\n",
       "      <td>78</td>\n",
       "      <td>89</td>\n",
       "      <td>89</td>\n",
       "      <td>94</td>\n",
       "      <td>85</td>\n",
       "    </tr>\n",
       "    <tr>\n",
       "      <th>3</th>\n",
       "      <td>1975-04-01</td>\n",
       "      <td>18.800000</td>\n",
       "      <td>7.700000</td>\n",
       "      <td>12.753333</td>\n",
       "      <td>3.366667</td>\n",
       "      <td>1.800000</td>\n",
       "      <td>10.533333</td>\n",
       "      <td>1975</td>\n",
       "      <td>4</td>\n",
       "      <td>78</td>\n",
       "      <td>89</td>\n",
       "      <td>89</td>\n",
       "      <td>94</td>\n",
       "      <td>85</td>\n",
       "    </tr>\n",
       "    <tr>\n",
       "      <th>4</th>\n",
       "      <td>1975-05-01</td>\n",
       "      <td>18.466667</td>\n",
       "      <td>7.966667</td>\n",
       "      <td>13.446667</td>\n",
       "      <td>2.766667</td>\n",
       "      <td>1.633333</td>\n",
       "      <td>11.880000</td>\n",
       "      <td>1975</td>\n",
       "      <td>5</td>\n",
       "      <td>78</td>\n",
       "      <td>89</td>\n",
       "      <td>89</td>\n",
       "      <td>94</td>\n",
       "      <td>85</td>\n",
       "    </tr>\n",
       "  </tbody>\n",
       "</table>\n",
       "</div>"
      ],
      "text/plain": [
       "        date        max       min    average      wind      rain   effect_t  \\\n",
       "0 1975-01-01  15.433333  6.290323  10.877419  4.225806  2.967742   7.993548   \n",
       "1 1975-02-01  16.285714  4.178571   9.985714  2.714286  2.214286   7.703571   \n",
       "2 1975-03-01  13.419355  3.419355   8.354839  3.354839  2.064516   5.529032   \n",
       "3 1975-04-01  18.800000  7.700000  12.753333  3.366667  1.800000  10.533333   \n",
       "4 1975-05-01  18.466667  7.966667  13.446667  2.766667  1.633333  11.880000   \n",
       "\n",
       "   year  month  margaux  pauillac  graves  pomerol  emilion  \n",
       "0  1975      1       78        89      89       94       85  \n",
       "1  1975      2       78        89      89       94       85  \n",
       "2  1975      3       78        89      89       94       85  \n",
       "3  1975      4       78        89      89       94       85  \n",
       "4  1975      5       78        89      89       94       85  "
      ]
     },
     "execution_count": 491,
     "metadata": {},
     "output_type": "execute_result"
    }
   ],
   "source": [
    "file = 'df_month.xlsx'\n",
    "xl = pd.ExcelFile(file)\n",
    "df = xl.parse('Sheet1')\n",
    "df.head()"
   ]
  },
  {
   "cell_type": "code",
   "execution_count": 492,
   "metadata": {},
   "outputs": [
    {
     "data": {
      "text/plain": [
       "Index(['date', 'max', 'min', 'average', 'wind', 'rain', 'effect_t', 'year',\n",
       "       'month', 'margaux', 'pauillac', 'graves', 'pomerol', 'emilion'],\n",
       "      dtype='object')"
      ]
     },
     "execution_count": 492,
     "metadata": {},
     "output_type": "execute_result"
    }
   ],
   "source": [
    "col = df.columns\n",
    "col"
   ]
  },
  {
   "cell_type": "code",
   "execution_count": 493,
   "metadata": {},
   "outputs": [
    {
     "data": {
      "text/plain": [
       "date        504\n",
       "max         504\n",
       "min         504\n",
       "average     504\n",
       "wind        504\n",
       "rain        504\n",
       "effect_t    504\n",
       "year        504\n",
       "month       504\n",
       "margaux     504\n",
       "pauillac    504\n",
       "graves      504\n",
       "pomerol     504\n",
       "emilion     504\n",
       "dtype: int64"
      ]
     },
     "execution_count": 493,
     "metadata": {},
     "output_type": "execute_result"
    }
   ],
   "source": [
    "df.isnull().count()"
   ]
  },
  {
   "cell_type": "code",
   "execution_count": 494,
   "metadata": {},
   "outputs": [
    {
     "name": "stdout",
     "output_type": "stream",
     "text": [
      "<class 'pandas.core.frame.DataFrame'>\n",
      "RangeIndex: 504 entries, 0 to 503\n",
      "Data columns (total 14 columns):\n",
      " #   Column    Non-Null Count  Dtype         \n",
      "---  ------    --------------  -----         \n",
      " 0   date      504 non-null    datetime64[ns]\n",
      " 1   max       504 non-null    float64       \n",
      " 2   min       504 non-null    float64       \n",
      " 3   average   504 non-null    float64       \n",
      " 4   wind      504 non-null    float64       \n",
      " 5   rain      504 non-null    float64       \n",
      " 6   effect_t  504 non-null    float64       \n",
      " 7   year      504 non-null    int64         \n",
      " 8   month     504 non-null    int64         \n",
      " 9   margaux   504 non-null    int64         \n",
      " 10  pauillac  504 non-null    int64         \n",
      " 11  graves    504 non-null    int64         \n",
      " 12  pomerol   504 non-null    int64         \n",
      " 13  emilion   504 non-null    int64         \n",
      "dtypes: datetime64[ns](1), float64(6), int64(7)\n",
      "memory usage: 55.2 KB\n"
     ]
    }
   ],
   "source": [
    "df.info()"
   ]
  },
  {
   "cell_type": "code",
   "execution_count": 495,
   "metadata": {},
   "outputs": [],
   "source": [
    "df1 = df.query('month == 1')\n",
    "train = df1[['max', 'min', 'average', 'wind', 'rain', 'effect_t']]\n",
    "target = df1['margaux']\n",
    "train, test, y_train, y_test = train_test_split(train, target, test_size = 0.2, shuffle = False)"
   ]
  },
  {
   "cell_type": "markdown",
   "metadata": {},
   "source": [
    "Создадим результирующий датафрейм, запишем в него тестовые данные"
   ]
  },
  {
   "cell_type": "code",
   "execution_count": 505,
   "metadata": {},
   "outputs": [
    {
     "data": {
      "text/html": [
       "<div>\n",
       "<style scoped>\n",
       "    .dataframe tbody tr th:only-of-type {\n",
       "        vertical-align: middle;\n",
       "    }\n",
       "\n",
       "    .dataframe tbody tr th {\n",
       "        vertical-align: top;\n",
       "    }\n",
       "\n",
       "    .dataframe thead th {\n",
       "        text-align: right;\n",
       "    }\n",
       "</style>\n",
       "<table border=\"1\" class=\"dataframe\">\n",
       "  <thead>\n",
       "    <tr style=\"text-align: right;\">\n",
       "      <th></th>\n",
       "      <th>margaux</th>\n",
       "    </tr>\n",
       "  </thead>\n",
       "  <tbody>\n",
       "    <tr>\n",
       "      <th>0</th>\n",
       "      <td>97</td>\n",
       "    </tr>\n",
       "    <tr>\n",
       "      <th>1</th>\n",
       "      <td>95</td>\n",
       "    </tr>\n",
       "    <tr>\n",
       "      <th>2</th>\n",
       "      <td>87</td>\n",
       "    </tr>\n",
       "    <tr>\n",
       "      <th>3</th>\n",
       "      <td>89</td>\n",
       "    </tr>\n",
       "    <tr>\n",
       "      <th>4</th>\n",
       "      <td>80</td>\n",
       "    </tr>\n",
       "    <tr>\n",
       "      <th>5</th>\n",
       "      <td>90</td>\n",
       "    </tr>\n",
       "    <tr>\n",
       "      <th>6</th>\n",
       "      <td>94</td>\n",
       "    </tr>\n",
       "    <tr>\n",
       "      <th>7</th>\n",
       "      <td>97</td>\n",
       "    </tr>\n",
       "    <tr>\n",
       "      <th>8</th>\n",
       "      <td>90</td>\n",
       "    </tr>\n",
       "  </tbody>\n",
       "</table>\n",
       "</div>"
      ],
      "text/plain": [
       "   margaux\n",
       "0       97\n",
       "1       95\n",
       "2       87\n",
       "3       89\n",
       "4       80\n",
       "5       90\n",
       "6       94\n",
       "7       97\n",
       "8       90"
      ]
     },
     "execution_count": 505,
     "metadata": {},
     "output_type": "execute_result"
    }
   ],
   "source": [
    "result1 = []\n",
    "result1 = pd.DataFrame(y_test)\n",
    "result1.reset_index(inplace = True)\n",
    "result1.drop('index', inplace = True, axis = 1)\n",
    "result1.head(10)"
   ]
  },
  {
   "cell_type": "markdown",
   "metadata": {},
   "source": [
    "В цикле сделаем помесячную выборку (месяцы возьмем с марта по август), обучим линейную регрессию и сделаем помесячные прогнозы."
   ]
  },
  {
   "cell_type": "code",
   "execution_count": 506,
   "metadata": {},
   "outputs": [],
   "source": [
    "for i in range(3, 9):\n",
    "    df1 = df.query('month == @i')\n",
    "    train = df1[['max', 'min', 'average', 'wind', 'rain', 'effect_t']]\n",
    "    target = df1['margaux']\n",
    "    train, test, y_train, y_test = train_test_split(train, target, test_size = 0.2, shuffle = False)\n",
    "    lr = LinearRegression(normalize = True, n_jobs = -1)\n",
    "    lr.fit(train, y_train)\n",
    "    pred = lr.predict(test)\n",
    "    pred1 = pd.DataFrame(pred, columns = [f'{i}'])\n",
    "    result1 = result1.merge(pred1, right_index = True, left_index = True)"
   ]
  },
  {
   "cell_type": "code",
   "execution_count": 513,
   "metadata": {},
   "outputs": [
    {
     "data": {
      "text/html": [
       "<div>\n",
       "<style scoped>\n",
       "    .dataframe tbody tr th:only-of-type {\n",
       "        vertical-align: middle;\n",
       "    }\n",
       "\n",
       "    .dataframe tbody tr th {\n",
       "        vertical-align: top;\n",
       "    }\n",
       "\n",
       "    .dataframe thead th {\n",
       "        text-align: right;\n",
       "    }\n",
       "</style>\n",
       "<table border=\"1\" class=\"dataframe\">\n",
       "  <thead>\n",
       "    <tr style=\"text-align: right;\">\n",
       "      <th></th>\n",
       "      <th>margaux</th>\n",
       "      <th>3</th>\n",
       "      <th>4</th>\n",
       "      <th>5</th>\n",
       "      <th>6</th>\n",
       "      <th>7</th>\n",
       "      <th>8</th>\n",
       "    </tr>\n",
       "  </thead>\n",
       "  <tbody>\n",
       "    <tr>\n",
       "      <th>0</th>\n",
       "      <td>97</td>\n",
       "      <td>91.820294</td>\n",
       "      <td>86.885725</td>\n",
       "      <td>90.786755</td>\n",
       "      <td>85.942981</td>\n",
       "      <td>87.060567</td>\n",
       "      <td>87.435134</td>\n",
       "    </tr>\n",
       "    <tr>\n",
       "      <th>1</th>\n",
       "      <td>95</td>\n",
       "      <td>88.773761</td>\n",
       "      <td>81.489605</td>\n",
       "      <td>90.190272</td>\n",
       "      <td>81.057901</td>\n",
       "      <td>87.788283</td>\n",
       "      <td>89.376291</td>\n",
       "    </tr>\n",
       "    <tr>\n",
       "      <th>2</th>\n",
       "      <td>87</td>\n",
       "      <td>88.913487</td>\n",
       "      <td>83.096417</td>\n",
       "      <td>86.554923</td>\n",
       "      <td>89.295642</td>\n",
       "      <td>84.547648</td>\n",
       "      <td>86.394409</td>\n",
       "    </tr>\n",
       "    <tr>\n",
       "      <th>3</th>\n",
       "      <td>89</td>\n",
       "      <td>91.494114</td>\n",
       "      <td>96.713596</td>\n",
       "      <td>86.607195</td>\n",
       "      <td>84.588430</td>\n",
       "      <td>81.967058</td>\n",
       "      <td>92.024768</td>\n",
       "    </tr>\n",
       "    <tr>\n",
       "      <th>4</th>\n",
       "      <td>80</td>\n",
       "      <td>85.936937</td>\n",
       "      <td>79.059698</td>\n",
       "      <td>83.366390</td>\n",
       "      <td>81.163258</td>\n",
       "      <td>93.820307</td>\n",
       "      <td>92.735744</td>\n",
       "    </tr>\n",
       "    <tr>\n",
       "      <th>5</th>\n",
       "      <td>90</td>\n",
       "      <td>81.560761</td>\n",
       "      <td>69.406390</td>\n",
       "      <td>59.799203</td>\n",
       "      <td>82.404249</td>\n",
       "      <td>68.043397</td>\n",
       "      <td>63.450161</td>\n",
       "    </tr>\n",
       "    <tr>\n",
       "      <th>6</th>\n",
       "      <td>94</td>\n",
       "      <td>79.885957</td>\n",
       "      <td>77.580256</td>\n",
       "      <td>81.698008</td>\n",
       "      <td>85.641745</td>\n",
       "      <td>82.609193</td>\n",
       "      <td>67.950775</td>\n",
       "    </tr>\n",
       "    <tr>\n",
       "      <th>7</th>\n",
       "      <td>97</td>\n",
       "      <td>85.486304</td>\n",
       "      <td>78.617888</td>\n",
       "      <td>69.268296</td>\n",
       "      <td>78.358292</td>\n",
       "      <td>82.639706</td>\n",
       "      <td>85.017353</td>\n",
       "    </tr>\n",
       "    <tr>\n",
       "      <th>8</th>\n",
       "      <td>90</td>\n",
       "      <td>83.698953</td>\n",
       "      <td>74.998258</td>\n",
       "      <td>77.530061</td>\n",
       "      <td>79.793288</td>\n",
       "      <td>88.661971</td>\n",
       "      <td>77.747443</td>\n",
       "    </tr>\n",
       "  </tbody>\n",
       "</table>\n",
       "</div>"
      ],
      "text/plain": [
       "   margaux          3          4          5          6          7          8\n",
       "0       97  91.820294  86.885725  90.786755  85.942981  87.060567  87.435134\n",
       "1       95  88.773761  81.489605  90.190272  81.057901  87.788283  89.376291\n",
       "2       87  88.913487  83.096417  86.554923  89.295642  84.547648  86.394409\n",
       "3       89  91.494114  96.713596  86.607195  84.588430  81.967058  92.024768\n",
       "4       80  85.936937  79.059698  83.366390  81.163258  93.820307  92.735744\n",
       "5       90  81.560761  69.406390  59.799203  82.404249  68.043397  63.450161\n",
       "6       94  79.885957  77.580256  81.698008  85.641745  82.609193  67.950775\n",
       "7       97  85.486304  78.617888  69.268296  78.358292  82.639706  85.017353\n",
       "8       90  83.698953  74.998258  77.530061  79.793288  88.661971  77.747443"
      ]
     },
     "execution_count": 513,
     "metadata": {},
     "output_type": "execute_result"
    }
   ],
   "source": [
    "result1.head(10)"
   ]
  },
  {
   "cell_type": "markdown",
   "metadata": {},
   "source": [
    "Получившуюся таблицу снова поделим на обучающую и тестовую выборки. Проведем обучение и сделаем предсказание."
   ]
  },
  {
   "cell_type": "code",
   "execution_count": 514,
   "metadata": {},
   "outputs": [
    {
     "data": {
      "text/plain": [
       "Index(['margaux', '3', '4', '5', '6', '7', '8'], dtype='object')"
      ]
     },
     "execution_count": 514,
     "metadata": {},
     "output_type": "execute_result"
    }
   ],
   "source": [
    "result1.columns"
   ]
  },
  {
   "cell_type": "code",
   "execution_count": 515,
   "metadata": {},
   "outputs": [],
   "source": [
    "train = result1[['3', '4', '5', '6', '7', '8']]\n",
    "target = result1['margaux']\n",
    "train, test, y_train, y_test = train_test_split(train, target, test_size = 0.5, shuffle = False)\n",
    "lr = LinearRegression()\n",
    "lr.fit(train, y_train)\n",
    "full = lr.predict(test)"
   ]
  },
  {
   "cell_type": "code",
   "execution_count": 516,
   "metadata": {},
   "outputs": [
    {
     "data": {
      "text/plain": [
       "array([88.53297954, 43.25372575, 76.16413116, 66.19442061, 78.71484043])"
      ]
     },
     "execution_count": 516,
     "metadata": {},
     "output_type": "execute_result"
    }
   ],
   "source": [
    "full"
   ]
  },
  {
   "cell_type": "code",
   "execution_count": 517,
   "metadata": {},
   "outputs": [
    {
     "data": {
      "text/plain": [
       "4    80\n",
       "5    90\n",
       "6    94\n",
       "7    97\n",
       "8    90\n",
       "Name: margaux, dtype: int64"
      ]
     },
     "execution_count": 517,
     "metadata": {},
     "output_type": "execute_result"
    }
   ],
   "source": [
    "y_test"
   ]
  },
  {
   "cell_type": "markdown",
   "metadata": {},
   "source": [
    "Рассчитаем метрику качества"
   ]
  },
  {
   "cell_type": "code",
   "execution_count": 518,
   "metadata": {},
   "outputs": [
    {
     "data": {
      "text/plain": [
       "730.496532169647"
      ]
     },
     "execution_count": 518,
     "metadata": {},
     "output_type": "execute_result"
    }
   ],
   "source": [
    "mean_squared_error(y_test, full)"
   ]
  },
  {
   "cell_type": "markdown",
   "metadata": {},
   "source": [
    "Кошмар, с такими предсказаниями можно по миру пойти."
   ]
  },
  {
   "cell_type": "markdown",
   "metadata": {},
   "source": [
    "Решим ту же самую задачу с помощью случайного леса"
   ]
  },
  {
   "cell_type": "code",
   "execution_count": 521,
   "metadata": {},
   "outputs": [],
   "source": [
    "df1 = df.query('month == 1')\n",
    "train = df1[['max', 'min', 'average', 'wind', 'rain', 'effect_t']]\n",
    "target = df1['margaux']\n",
    "train, test, y_train, y_test = train_test_split(train, target, test_size = 0.2, shuffle = False)"
   ]
  },
  {
   "cell_type": "code",
   "execution_count": 522,
   "metadata": {},
   "outputs": [
    {
     "data": {
      "text/html": [
       "<div>\n",
       "<style scoped>\n",
       "    .dataframe tbody tr th:only-of-type {\n",
       "        vertical-align: middle;\n",
       "    }\n",
       "\n",
       "    .dataframe tbody tr th {\n",
       "        vertical-align: top;\n",
       "    }\n",
       "\n",
       "    .dataframe thead th {\n",
       "        text-align: right;\n",
       "    }\n",
       "</style>\n",
       "<table border=\"1\" class=\"dataframe\">\n",
       "  <thead>\n",
       "    <tr style=\"text-align: right;\">\n",
       "      <th></th>\n",
       "      <th>margaux</th>\n",
       "    </tr>\n",
       "  </thead>\n",
       "  <tbody>\n",
       "    <tr>\n",
       "      <th>0</th>\n",
       "      <td>97</td>\n",
       "    </tr>\n",
       "    <tr>\n",
       "      <th>1</th>\n",
       "      <td>95</td>\n",
       "    </tr>\n",
       "    <tr>\n",
       "      <th>2</th>\n",
       "      <td>87</td>\n",
       "    </tr>\n",
       "    <tr>\n",
       "      <th>3</th>\n",
       "      <td>89</td>\n",
       "    </tr>\n",
       "    <tr>\n",
       "      <th>4</th>\n",
       "      <td>80</td>\n",
       "    </tr>\n",
       "    <tr>\n",
       "      <th>5</th>\n",
       "      <td>90</td>\n",
       "    </tr>\n",
       "    <tr>\n",
       "      <th>6</th>\n",
       "      <td>94</td>\n",
       "    </tr>\n",
       "    <tr>\n",
       "      <th>7</th>\n",
       "      <td>97</td>\n",
       "    </tr>\n",
       "    <tr>\n",
       "      <th>8</th>\n",
       "      <td>90</td>\n",
       "    </tr>\n",
       "  </tbody>\n",
       "</table>\n",
       "</div>"
      ],
      "text/plain": [
       "   margaux\n",
       "0       97\n",
       "1       95\n",
       "2       87\n",
       "3       89\n",
       "4       80\n",
       "5       90\n",
       "6       94\n",
       "7       97\n",
       "8       90"
      ]
     },
     "execution_count": 522,
     "metadata": {},
     "output_type": "execute_result"
    }
   ],
   "source": [
    "result2 = []\n",
    "result2 = pd.DataFrame(y_test)\n",
    "result2.reset_index(inplace = True)\n",
    "result2.drop('index', inplace = True, axis = 1)\n",
    "result2.head(10)"
   ]
  },
  {
   "cell_type": "code",
   "execution_count": 523,
   "metadata": {},
   "outputs": [],
   "source": [
    "from sklearn.ensemble import RandomForestRegressor\n",
    "for i in range(3, 9):\n",
    "    df1 = df.query('month == @i')\n",
    "    train = df1[['max', 'min', 'average', 'wind', 'rain', 'effect_t']]\n",
    "    target = df1['margaux']\n",
    "    train, test, y_train, y_test = train_test_split(train, target, test_size = 0.2, shuffle = False)\n",
    "    forest = RandomForestRegressor(max_depth = 11, n_estimators = 5, n_jobs = -1)\n",
    "    forest.fit(train, y_train)\n",
    "    pred = forest.predict(test)\n",
    "    pred1 = pd.DataFrame(pred, columns = [f'{i}'])\n",
    "    result2 = result2.merge(pred1, right_index = True, left_index = True)"
   ]
  },
  {
   "cell_type": "code",
   "execution_count": 525,
   "metadata": {},
   "outputs": [
    {
     "data": {
      "text/html": [
       "<div>\n",
       "<style scoped>\n",
       "    .dataframe tbody tr th:only-of-type {\n",
       "        vertical-align: middle;\n",
       "    }\n",
       "\n",
       "    .dataframe tbody tr th {\n",
       "        vertical-align: top;\n",
       "    }\n",
       "\n",
       "    .dataframe thead th {\n",
       "        text-align: right;\n",
       "    }\n",
       "</style>\n",
       "<table border=\"1\" class=\"dataframe\">\n",
       "  <thead>\n",
       "    <tr style=\"text-align: right;\">\n",
       "      <th></th>\n",
       "      <th>margaux</th>\n",
       "      <th>3</th>\n",
       "      <th>4</th>\n",
       "      <th>5</th>\n",
       "      <th>6</th>\n",
       "      <th>7</th>\n",
       "      <th>8</th>\n",
       "    </tr>\n",
       "  </thead>\n",
       "  <tbody>\n",
       "    <tr>\n",
       "      <th>0</th>\n",
       "      <td>97</td>\n",
       "      <td>83.4</td>\n",
       "      <td>92.6</td>\n",
       "      <td>86.4</td>\n",
       "      <td>88.0</td>\n",
       "      <td>80.4</td>\n",
       "      <td>83.2</td>\n",
       "    </tr>\n",
       "    <tr>\n",
       "      <th>1</th>\n",
       "      <td>95</td>\n",
       "      <td>87.4</td>\n",
       "      <td>83.4</td>\n",
       "      <td>86.4</td>\n",
       "      <td>85.0</td>\n",
       "      <td>86.6</td>\n",
       "      <td>88.6</td>\n",
       "    </tr>\n",
       "    <tr>\n",
       "      <th>2</th>\n",
       "      <td>87</td>\n",
       "      <td>90.6</td>\n",
       "      <td>87.8</td>\n",
       "      <td>86.4</td>\n",
       "      <td>88.2</td>\n",
       "      <td>77.2</td>\n",
       "      <td>82.2</td>\n",
       "    </tr>\n",
       "    <tr>\n",
       "      <th>3</th>\n",
       "      <td>89</td>\n",
       "      <td>92.0</td>\n",
       "      <td>88.8</td>\n",
       "      <td>89.2</td>\n",
       "      <td>83.8</td>\n",
       "      <td>78.0</td>\n",
       "      <td>84.6</td>\n",
       "    </tr>\n",
       "    <tr>\n",
       "      <th>4</th>\n",
       "      <td>80</td>\n",
       "      <td>80.6</td>\n",
       "      <td>78.0</td>\n",
       "      <td>80.6</td>\n",
       "      <td>79.8</td>\n",
       "      <td>88.2</td>\n",
       "      <td>86.2</td>\n",
       "    </tr>\n",
       "    <tr>\n",
       "      <th>5</th>\n",
       "      <td>90</td>\n",
       "      <td>83.6</td>\n",
       "      <td>83.8</td>\n",
       "      <td>81.0</td>\n",
       "      <td>89.2</td>\n",
       "      <td>79.8</td>\n",
       "      <td>83.6</td>\n",
       "    </tr>\n",
       "    <tr>\n",
       "      <th>6</th>\n",
       "      <td>94</td>\n",
       "      <td>81.2</td>\n",
       "      <td>75.2</td>\n",
       "      <td>84.6</td>\n",
       "      <td>84.0</td>\n",
       "      <td>86.2</td>\n",
       "      <td>85.0</td>\n",
       "    </tr>\n",
       "    <tr>\n",
       "      <th>7</th>\n",
       "      <td>97</td>\n",
       "      <td>84.6</td>\n",
       "      <td>82.6</td>\n",
       "      <td>90.8</td>\n",
       "      <td>78.8</td>\n",
       "      <td>84.6</td>\n",
       "      <td>79.0</td>\n",
       "    </tr>\n",
       "    <tr>\n",
       "      <th>8</th>\n",
       "      <td>90</td>\n",
       "      <td>85.8</td>\n",
       "      <td>80.6</td>\n",
       "      <td>78.6</td>\n",
       "      <td>85.6</td>\n",
       "      <td>89.4</td>\n",
       "      <td>83.6</td>\n",
       "    </tr>\n",
       "  </tbody>\n",
       "</table>\n",
       "</div>"
      ],
      "text/plain": [
       "   margaux     3     4     5     6     7     8\n",
       "0       97  83.4  92.6  86.4  88.0  80.4  83.2\n",
       "1       95  87.4  83.4  86.4  85.0  86.6  88.6\n",
       "2       87  90.6  87.8  86.4  88.2  77.2  82.2\n",
       "3       89  92.0  88.8  89.2  83.8  78.0  84.6\n",
       "4       80  80.6  78.0  80.6  79.8  88.2  86.2\n",
       "5       90  83.6  83.8  81.0  89.2  79.8  83.6\n",
       "6       94  81.2  75.2  84.6  84.0  86.2  85.0\n",
       "7       97  84.6  82.6  90.8  78.8  84.6  79.0\n",
       "8       90  85.8  80.6  78.6  85.6  89.4  83.6"
      ]
     },
     "execution_count": 525,
     "metadata": {},
     "output_type": "execute_result"
    }
   ],
   "source": [
    "result2.head(10)"
   ]
  },
  {
   "cell_type": "code",
   "execution_count": null,
   "metadata": {},
   "outputs": [],
   "source": [
    "train = result2[['3', '4', '5', '6', '7', '8']]\n",
    "target = result2['margaux']\n",
    "train, test, y_train, y_test = train_test_split(train, target, test_size = 0.5, shuffle = False)\n",
    "forest = RandomForestRegressor()\n",
    "forest.fit(train, y_train)\n",
    "full = forest.predict(test)"
   ]
  },
  {
   "cell_type": "code",
   "execution_count": 528,
   "metadata": {},
   "outputs": [
    {
     "data": {
      "text/plain": [
       "array([93.6 , 93.76, 93.66, 92.9 , 94.26])"
      ]
     },
     "execution_count": 528,
     "metadata": {},
     "output_type": "execute_result"
    }
   ],
   "source": [
    "full"
   ]
  },
  {
   "cell_type": "code",
   "execution_count": 529,
   "metadata": {},
   "outputs": [
    {
     "data": {
      "text/plain": [
       "4    80\n",
       "5    90\n",
       "6    94\n",
       "7    97\n",
       "8    90\n",
       "Name: margaux, dtype: int64"
      ]
     },
     "execution_count": 529,
     "metadata": {},
     "output_type": "execute_result"
    }
   ],
   "source": [
    "y_test"
   ]
  },
  {
   "cell_type": "code",
   "execution_count": 530,
   "metadata": {},
   "outputs": [
    {
     "data": {
      "text/plain": [
       "46.834159999999976"
      ]
     },
     "execution_count": 530,
     "metadata": {},
     "output_type": "execute_result"
    }
   ],
   "source": [
    "mean_squared_error(y_test, full)"
   ]
  },
  {
   "cell_type": "markdown",
   "metadata": {},
   "source": [
    "Ну вот, вроде получше."
   ]
  },
  {
   "cell_type": "markdown",
   "metadata": {},
   "source": [
    "Теперь решим с помощью дерева решений"
   ]
  },
  {
   "cell_type": "code",
   "execution_count": 532,
   "metadata": {},
   "outputs": [],
   "source": [
    "df1 = df.query('month == 1')\n",
    "train = df1[['max', 'min', 'average', 'wind', 'rain', 'effect_t']]\n",
    "target = df1['margaux']\n",
    "train, test, y_train, y_test = train_test_split(train, target, test_size = 0.2, shuffle = False)"
   ]
  },
  {
   "cell_type": "code",
   "execution_count": 533,
   "metadata": {},
   "outputs": [
    {
     "data": {
      "text/html": [
       "<div>\n",
       "<style scoped>\n",
       "    .dataframe tbody tr th:only-of-type {\n",
       "        vertical-align: middle;\n",
       "    }\n",
       "\n",
       "    .dataframe tbody tr th {\n",
       "        vertical-align: top;\n",
       "    }\n",
       "\n",
       "    .dataframe thead th {\n",
       "        text-align: right;\n",
       "    }\n",
       "</style>\n",
       "<table border=\"1\" class=\"dataframe\">\n",
       "  <thead>\n",
       "    <tr style=\"text-align: right;\">\n",
       "      <th></th>\n",
       "      <th>margaux</th>\n",
       "    </tr>\n",
       "  </thead>\n",
       "  <tbody>\n",
       "    <tr>\n",
       "      <th>0</th>\n",
       "      <td>97</td>\n",
       "    </tr>\n",
       "    <tr>\n",
       "      <th>1</th>\n",
       "      <td>95</td>\n",
       "    </tr>\n",
       "    <tr>\n",
       "      <th>2</th>\n",
       "      <td>87</td>\n",
       "    </tr>\n",
       "    <tr>\n",
       "      <th>3</th>\n",
       "      <td>89</td>\n",
       "    </tr>\n",
       "    <tr>\n",
       "      <th>4</th>\n",
       "      <td>80</td>\n",
       "    </tr>\n",
       "    <tr>\n",
       "      <th>5</th>\n",
       "      <td>90</td>\n",
       "    </tr>\n",
       "    <tr>\n",
       "      <th>6</th>\n",
       "      <td>94</td>\n",
       "    </tr>\n",
       "    <tr>\n",
       "      <th>7</th>\n",
       "      <td>97</td>\n",
       "    </tr>\n",
       "    <tr>\n",
       "      <th>8</th>\n",
       "      <td>90</td>\n",
       "    </tr>\n",
       "  </tbody>\n",
       "</table>\n",
       "</div>"
      ],
      "text/plain": [
       "   margaux\n",
       "0       97\n",
       "1       95\n",
       "2       87\n",
       "3       89\n",
       "4       80\n",
       "5       90\n",
       "6       94\n",
       "7       97\n",
       "8       90"
      ]
     },
     "execution_count": 533,
     "metadata": {},
     "output_type": "execute_result"
    }
   ],
   "source": [
    "result3 = []\n",
    "result3 = pd.DataFrame(y_test)\n",
    "result3.reset_index(inplace = True)\n",
    "result3.drop('index', inplace = True, axis = 1)\n",
    "result3.head(10)"
   ]
  },
  {
   "cell_type": "code",
   "execution_count": 534,
   "metadata": {},
   "outputs": [],
   "source": [
    "from sklearn.tree import DecisionTreeRegressor\n",
    "for i in range(3, 9):\n",
    "    df1 = df.query('month == @i')\n",
    "    train = df1[['max', 'min', 'average', 'wind', 'rain', 'effect_t']]\n",
    "    target = df1['margaux']\n",
    "    train, test, y_train, y_test = train_test_split(train, target, test_size = 0.2, shuffle = False)\n",
    "    tree = DecisionTreeRegressor()\n",
    "    tree.fit(train, y_train)\n",
    "    pred = tree.predict(test)\n",
    "    pred1 = pd.DataFrame(pred, columns = [f'{i}'])\n",
    "    result3 = result3.merge(pred1, right_index = True, left_index = True)"
   ]
  },
  {
   "cell_type": "code",
   "execution_count": 536,
   "metadata": {},
   "outputs": [
    {
     "data": {
      "text/html": [
       "<div>\n",
       "<style scoped>\n",
       "    .dataframe tbody tr th:only-of-type {\n",
       "        vertical-align: middle;\n",
       "    }\n",
       "\n",
       "    .dataframe tbody tr th {\n",
       "        vertical-align: top;\n",
       "    }\n",
       "\n",
       "    .dataframe thead th {\n",
       "        text-align: right;\n",
       "    }\n",
       "</style>\n",
       "<table border=\"1\" class=\"dataframe\">\n",
       "  <thead>\n",
       "    <tr style=\"text-align: right;\">\n",
       "      <th></th>\n",
       "      <th>margaux</th>\n",
       "      <th>3</th>\n",
       "      <th>4</th>\n",
       "      <th>5</th>\n",
       "      <th>6</th>\n",
       "      <th>7</th>\n",
       "      <th>8</th>\n",
       "    </tr>\n",
       "  </thead>\n",
       "  <tbody>\n",
       "    <tr>\n",
       "      <th>0</th>\n",
       "      <td>97</td>\n",
       "      <td>86.0</td>\n",
       "      <td>95.0</td>\n",
       "      <td>86.0</td>\n",
       "      <td>85.0</td>\n",
       "      <td>86.0</td>\n",
       "      <td>82.0</td>\n",
       "    </tr>\n",
       "    <tr>\n",
       "      <th>1</th>\n",
       "      <td>95</td>\n",
       "      <td>88.0</td>\n",
       "      <td>76.0</td>\n",
       "      <td>74.0</td>\n",
       "      <td>90.0</td>\n",
       "      <td>88.0</td>\n",
       "      <td>86.0</td>\n",
       "    </tr>\n",
       "    <tr>\n",
       "      <th>2</th>\n",
       "      <td>87</td>\n",
       "      <td>85.0</td>\n",
       "      <td>76.0</td>\n",
       "      <td>75.0</td>\n",
       "      <td>88.0</td>\n",
       "      <td>88.0</td>\n",
       "      <td>75.0</td>\n",
       "    </tr>\n",
       "    <tr>\n",
       "      <th>3</th>\n",
       "      <td>89</td>\n",
       "      <td>98.0</td>\n",
       "      <td>86.0</td>\n",
       "      <td>88.0</td>\n",
       "      <td>90.0</td>\n",
       "      <td>77.0</td>\n",
       "      <td>75.0</td>\n",
       "    </tr>\n",
       "    <tr>\n",
       "      <th>4</th>\n",
       "      <td>80</td>\n",
       "      <td>86.0</td>\n",
       "      <td>76.0</td>\n",
       "      <td>79.0</td>\n",
       "      <td>86.0</td>\n",
       "      <td>75.0</td>\n",
       "      <td>86.0</td>\n",
       "    </tr>\n",
       "    <tr>\n",
       "      <th>5</th>\n",
       "      <td>90</td>\n",
       "      <td>86.0</td>\n",
       "      <td>86.0</td>\n",
       "      <td>77.0</td>\n",
       "      <td>89.0</td>\n",
       "      <td>77.0</td>\n",
       "      <td>78.0</td>\n",
       "    </tr>\n",
       "    <tr>\n",
       "      <th>6</th>\n",
       "      <td>94</td>\n",
       "      <td>82.0</td>\n",
       "      <td>88.0</td>\n",
       "      <td>74.0</td>\n",
       "      <td>78.0</td>\n",
       "      <td>86.0</td>\n",
       "      <td>78.0</td>\n",
       "    </tr>\n",
       "    <tr>\n",
       "      <th>7</th>\n",
       "      <td>97</td>\n",
       "      <td>86.0</td>\n",
       "      <td>86.0</td>\n",
       "      <td>95.0</td>\n",
       "      <td>76.0</td>\n",
       "      <td>77.0</td>\n",
       "      <td>75.0</td>\n",
       "    </tr>\n",
       "    <tr>\n",
       "      <th>8</th>\n",
       "      <td>90</td>\n",
       "      <td>77.0</td>\n",
       "      <td>86.0</td>\n",
       "      <td>77.0</td>\n",
       "      <td>88.0</td>\n",
       "      <td>90.0</td>\n",
       "      <td>76.0</td>\n",
       "    </tr>\n",
       "  </tbody>\n",
       "</table>\n",
       "</div>"
      ],
      "text/plain": [
       "   margaux     3     4     5     6     7     8\n",
       "0       97  86.0  95.0  86.0  85.0  86.0  82.0\n",
       "1       95  88.0  76.0  74.0  90.0  88.0  86.0\n",
       "2       87  85.0  76.0  75.0  88.0  88.0  75.0\n",
       "3       89  98.0  86.0  88.0  90.0  77.0  75.0\n",
       "4       80  86.0  76.0  79.0  86.0  75.0  86.0\n",
       "5       90  86.0  86.0  77.0  89.0  77.0  78.0\n",
       "6       94  82.0  88.0  74.0  78.0  86.0  78.0\n",
       "7       97  86.0  86.0  95.0  76.0  77.0  75.0\n",
       "8       90  77.0  86.0  77.0  88.0  90.0  76.0"
      ]
     },
     "execution_count": 536,
     "metadata": {},
     "output_type": "execute_result"
    }
   ],
   "source": [
    "result3.head(10)"
   ]
  },
  {
   "cell_type": "code",
   "execution_count": 537,
   "metadata": {},
   "outputs": [],
   "source": [
    "train = result3[['3', '4', '5', '6', '7', '8']]\n",
    "target = result3['margaux']\n",
    "train, test, y_train, y_test = train_test_split(train, target, test_size = 0.5, shuffle = False)\n",
    "tree = DecisionTreeRegressor()\n",
    "tree.fit(train, y_train)\n",
    "full = tree.predict(test)"
   ]
  },
  {
   "cell_type": "code",
   "execution_count": 538,
   "metadata": {},
   "outputs": [
    {
     "data": {
      "text/plain": [
       "76.0"
      ]
     },
     "execution_count": 538,
     "metadata": {},
     "output_type": "execute_result"
    }
   ],
   "source": [
    "mean_squared_error(y_test, full)"
   ]
  },
  {
   "cell_type": "code",
   "execution_count": 539,
   "metadata": {},
   "outputs": [
    {
     "data": {
      "text/plain": [
       "array([97., 89., 89., 89., 89.])"
      ]
     },
     "execution_count": 539,
     "metadata": {},
     "output_type": "execute_result"
    }
   ],
   "source": [
    "full"
   ]
  },
  {
   "cell_type": "code",
   "execution_count": 540,
   "metadata": {},
   "outputs": [
    {
     "data": {
      "text/plain": [
       "4    80\n",
       "5    90\n",
       "6    94\n",
       "7    97\n",
       "8    90\n",
       "Name: margaux, dtype: int64"
      ]
     },
     "execution_count": 540,
     "metadata": {},
     "output_type": "execute_result"
    }
   ],
   "source": [
    "y_test"
   ]
  },
  {
   "cell_type": "markdown",
   "metadata": {},
   "source": [
    "Дерево решений показало результат хуже случайного леса, но лучше линейной регрессии"
   ]
  }
 ],
 "metadata": {
  "kernelspec": {
   "display_name": "Python 3",
   "language": "python",
   "name": "python3"
  },
  "language_info": {
   "codemirror_mode": {
    "name": "ipython",
    "version": 3
   },
   "file_extension": ".py",
   "mimetype": "text/x-python",
   "name": "python",
   "nbconvert_exporter": "python",
   "pygments_lexer": "ipython3",
   "version": "3.7.6"
  }
 },
 "nbformat": 4,
 "nbformat_minor": 4
}
